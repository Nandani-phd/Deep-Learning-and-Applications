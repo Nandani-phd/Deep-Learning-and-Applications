{
 "cells": [
  {
   "cell_type": "code",
   "execution_count": 42,
   "id": "05ddfb2c",
   "metadata": {},
   "outputs": [],
   "source": [
    "import numpy as np\n",
    "from matplotlib import pyplot as plt\n",
    "import pandas as pd\n",
    "import os,sys\n",
    "import cv2\n",
    "import tensorflow as tf\n",
    "from tensorflow import keras\n",
    "from tensorflow.keras.layers import Dense,Input,Flatten,Reshape\n",
    "from tensorflow.keras.models import Model\n",
    "from keras import initializers\n",
    "from tensorflow.keras.optimizers import Adam, SGD, Adagrad, RMSprop\n",
    "from tensorflow.keras.callbacks import EarlyStopping, ModelCheckpoint, TensorBoard\n",
    "import pickle as p\n"
   ]
  },
  {
   "cell_type": "code",
   "execution_count": 43,
   "id": "b48f6ab6",
   "metadata": {},
   "outputs": [],
   "source": [
    "initializer = tf.keras.initializers.RandomNormal(mean=0.0, stddev=0.05, seed=100)"
   ]
  },
  {
   "cell_type": "code",
   "execution_count": 44,
   "id": "dc7d5073",
   "metadata": {},
   "outputs": [],
   "source": [
    "\n",
    "#print('Initializer: ',initializer)\n",
    "\n",
    "def Upload_Dataset(Dataset_Path):\n",
    "    \n",
    "    Path_train_Dataset = Dataset_Path+\"/train\"\n",
    "    Path_test_Dataset = Dataset_Path+\"/test\"\n",
    "    Path_val_Dataset = Dataset_Path+\"/val\"\n",
    "    \n",
    "    Input_train_Dataset, Input_test_Dataset, Input_val_Dataset = [], [], []\n",
    "    Output_train, Output_test, Output_val = [], [], []\n",
    "\n",
    "    for j in os.listdir(Path_train_Dataset):\n",
    "\n",
    "        if j != \".DS_Store\":\n",
    "            for k in os.listdir(Path_train_Dataset+\"/\"+j):\n",
    "                Input_train_Dataset.append(cv2.imread(Path_train_Dataset+\"/\"+j+\"/\"+k, cv2.IMREAD_GRAYSCALE))\n",
    "                if(j == '6'):\n",
    "                    Output_train.append(int(2))\n",
    "                elif(j == '7'):\n",
    "                    Output_train.append(int(3))\n",
    "                elif(j == '9'):\n",
    "                    Output_train.append(int(4))\n",
    "                else:\n",
    "                    Output_train.append(int(j))\n",
    "\n",
    "            for k in os.listdir(Path_test_Dataset+\"/\"+j):\n",
    "                Input_test_Dataset.append(cv2.imread(Path_test_Dataset+\"/\"+j+\"/\"+k, cv2.IMREAD_GRAYSCALE))\n",
    "                if(j=='6'):\n",
    "                    Output_test.append(int(2))\n",
    "                elif(j=='7'):\n",
    "                    Output_test.append(int(3))\n",
    "                elif(j=='9'):\n",
    "                    Output_test.append(int(4))\n",
    "                else:\n",
    "                    Output_test.append(int(j))\n",
    "\n",
    "            for k in os.listdir(Path_val_Dataset+\"/\"+j):\n",
    "                Input_val_Dataset.append(cv2.imread(Path_val_Dataset+\"/\"+j+\"/\"+k, cv2.IMREAD_GRAYSCALE))\n",
    "                if(j=='6'):\n",
    "                    Output_val.append(int(2))\n",
    "                elif(j=='7'):\n",
    "                    Output_val.append(int(3))\n",
    "                elif(j=='9'):\n",
    "                    Output_val.append(int(4))\n",
    "                else:\n",
    "                    Output_val.append(int(j))\n",
    "        \n",
    "    #print(Output_train)            \n",
    "    Input_train_Dataset, Input_test_Dataset, Input_val_Dataset = np.array(Input_train_Dataset), np.array(Input_test_Dataset), np.array(Input_val_Dataset)\n",
    "    #Output_train, Output_test, Output_val = np.array(list(map(int, Output_train))), np.array(list(map(int, Output_test))), np.array(list(map(int, Output_val)))\n",
    "    Output_train, Output_test, Output_val = np.array(Output_train), np.array(Output_test), np.array(Output_val)\n",
    "    #print(Output_train) \n",
    "    return Input_train_Dataset, Input_test_Dataset,Input_val_Dataset, Output_train, Output_test, Output_val\n",
    "\n",
    "\n",
    "\n",
    "#providing path of  MNIST dataset\n",
    "Dataset_Path = \"/Users/vds/Downloads/Group_1\"\n",
    "\n",
    "\n",
    "#calling Upload_Dataset function\n",
    "Input_train_Dataset, Input_test_Dataset,Input_val_Dataset, Output_train, Output_test, Output_val= Upload_Dataset(Dataset_Path)\n",
    "\n"
   ]
  },
  {
   "cell_type": "code",
   "execution_count": 45,
   "id": "706b465f",
   "metadata": {},
   "outputs": [],
   "source": [
    "Input_train_Dataset=Input_train_Dataset/255\n",
    "Input_test_Dataset=Input_test_Dataset/255\n",
    "Input_val_Dataset=Input_val_Dataset/255\n",
    "#bottleneck dimension\n",
    "encodingDim=256"
   ]
  },
  {
   "cell_type": "code",
   "execution_count": 46,
   "id": "1f6626c6",
   "metadata": {},
   "outputs": [
    {
     "name": "stdout",
     "output_type": "stream",
     "text": [
      "Model: \"AutoencoderA1\"\n",
      "_________________________________________________________________\n",
      " Layer (type)                Output Shape              Param #   \n",
      "=================================================================\n",
      " img (InputLayer)            [(None, 28, 28)]          0         \n",
      "                                                                 \n",
      " InputLayer (Flatten)        (None, 784)               0         \n",
      "                                                                 \n",
      " dense_10 (Dense)            (None, 256)               200960    \n",
      "                                                                 \n",
      " dense_11 (Dense)            (None, 784)               201488    \n",
      "                                                                 \n",
      " reshape_5 (Reshape)         (None, 28, 28)            0         \n",
      "                                                                 \n",
      "=================================================================\n",
      "Total params: 402,448\n",
      "Trainable params: 402,448\n",
      "Non-trainable params: 0\n",
      "_________________________________________________________________\n",
      "Epoch 1/1000\n",
      "356/356 [==============================] - 2s 4ms/step - loss: 0.0476 - accuracy: 0.1778 - val_loss: 0.0295 - val_accuracy: 0.2472\n",
      "Epoch 2/1000\n",
      "356/356 [==============================] - 1s 3ms/step - loss: 0.0238 - accuracy: 0.2729 - val_loss: 0.0194 - val_accuracy: 0.2923\n",
      "Epoch 3/1000\n",
      "356/356 [==============================] - 1s 3ms/step - loss: 0.0164 - accuracy: 0.3055 - val_loss: 0.0141 - val_accuracy: 0.3149\n",
      "Epoch 4/1000\n",
      "356/356 [==============================] - 1s 3ms/step - loss: 0.0123 - accuracy: 0.3231 - val_loss: 0.0109 - val_accuracy: 0.3268\n",
      "Epoch 5/1000\n",
      "356/356 [==============================] - 1s 3ms/step - loss: 0.0097 - accuracy: 0.3338 - val_loss: 0.0089 - val_accuracy: 0.3357\n",
      "Epoch 6/1000\n",
      "356/356 [==============================] - 1s 3ms/step - loss: 0.0080 - accuracy: 0.3415 - val_loss: 0.0075 - val_accuracy: 0.3416\n",
      "Epoch 7/1000\n",
      "356/356 [==============================] - 1s 3ms/step - loss: 0.0068 - accuracy: 0.3461 - val_loss: 0.0065 - val_accuracy: 0.3453\n",
      "Epoch 8/1000\n",
      "356/356 [==============================] - 1s 3ms/step - loss: 0.0060 - accuracy: 0.3504 - val_loss: 0.0058 - val_accuracy: 0.3499\n",
      "Epoch 9/1000\n",
      "356/356 [==============================] - 1s 3ms/step - loss: 0.0053 - accuracy: 0.3535 - val_loss: 0.0052 - val_accuracy: 0.3537\n",
      "Epoch 10/1000\n",
      "356/356 [==============================] - 1s 3ms/step - loss: 0.0048 - accuracy: 0.3563 - val_loss: 0.0048 - val_accuracy: 0.3544\n",
      "Epoch 11/1000\n",
      "356/356 [==============================] - 1s 3ms/step - loss: 0.0044 - accuracy: 0.3591 - val_loss: 0.0044 - val_accuracy: 0.3537\n",
      "Epoch 12/1000\n",
      "356/356 [==============================] - 1s 3ms/step - loss: 0.0040 - accuracy: 0.3607 - val_loss: 0.0041 - val_accuracy: 0.3588\n",
      "Epoch 13/1000\n",
      "356/356 [==============================] - 1s 3ms/step - loss: 0.0037 - accuracy: 0.3625 - val_loss: 0.0039 - val_accuracy: 0.3617\n",
      "Epoch 14/1000\n",
      "356/356 [==============================] - 1s 3ms/step - loss: 0.0035 - accuracy: 0.3640 - val_loss: 0.0036 - val_accuracy: 0.3633\n",
      "Epoch 15/1000\n",
      "356/356 [==============================] - 1s 3ms/step - loss: 0.0033 - accuracy: 0.3654 - val_loss: 0.0035 - val_accuracy: 0.3641\n",
      "Epoch 16/1000\n",
      "356/356 [==============================] - 1s 3ms/step - loss: 0.0031 - accuracy: 0.3670 - val_loss: 0.0033 - val_accuracy: 0.3651\n",
      "Epoch 17/1000\n",
      "356/356 [==============================] - 1s 3ms/step - loss: 0.0029 - accuracy: 0.3681 - val_loss: 0.0032 - val_accuracy: 0.3664\n",
      "Epoch 18/1000\n",
      "356/356 [==============================] - 1s 3ms/step - loss: 0.0028 - accuracy: 0.3693 - val_loss: 0.0030 - val_accuracy: 0.3667\n",
      "Epoch 19/1000\n",
      "356/356 [==============================] - 1s 3ms/step - loss: 0.0027 - accuracy: 0.3702 - val_loss: 0.0029 - val_accuracy: 0.3691\n",
      "Epoch 20/1000\n",
      "356/356 [==============================] - 1s 3ms/step - loss: 0.0026 - accuracy: 0.3712 - val_loss: 0.0028 - val_accuracy: 0.3691\n",
      "Epoch 21/1000\n",
      "356/356 [==============================] - 1s 3ms/step - loss: 0.0025 - accuracy: 0.3717 - val_loss: 0.0027 - val_accuracy: 0.3711\n",
      "Epoch 22/1000\n",
      "356/356 [==============================] - 1s 3ms/step - loss: 0.0024 - accuracy: 0.3722 - val_loss: 0.0026 - val_accuracy: 0.3726\n",
      "Epoch 23/1000\n",
      "356/356 [==============================] - 1s 3ms/step - loss: 0.0023 - accuracy: 0.3735 - val_loss: 0.0026 - val_accuracy: 0.3696\n",
      "Epoch 24/1000\n",
      "356/356 [==============================] - 1s 3ms/step - loss: 0.0022 - accuracy: 0.3738 - val_loss: 0.0025 - val_accuracy: 0.3728\n",
      "Epoch 25/1000\n",
      "356/356 [==============================] - 1s 3ms/step - loss: 0.0021 - accuracy: 0.3750 - val_loss: 0.0024 - val_accuracy: 0.3723\n",
      "Epoch 26/1000\n",
      "356/356 [==============================] - 1s 3ms/step - loss: 0.0021 - accuracy: 0.3760 - val_loss: 0.0024 - val_accuracy: 0.3735\n",
      "Epoch 27/1000\n",
      "356/356 [==============================] - 1s 3ms/step - loss: 0.0020 - accuracy: 0.3762 - val_loss: 0.0023 - val_accuracy: 0.3745\n",
      "Epoch 28/1000\n",
      "356/356 [==============================] - 1s 3ms/step - loss: 0.0019 - accuracy: 0.3773 - val_loss: 0.0023 - val_accuracy: 0.3751\n",
      "Epoch 29/1000\n",
      "356/356 [==============================] - 1s 3ms/step - loss: 0.0019 - accuracy: 0.3775 - val_loss: 0.0022 - val_accuracy: 0.3756\n",
      "Epoch 30/1000\n",
      "356/356 [==============================] - 1s 3ms/step - loss: 0.0018 - accuracy: 0.3783 - val_loss: 0.0022 - val_accuracy: 0.3765\n",
      "Epoch 31/1000\n",
      "356/356 [==============================] - 1s 3ms/step - loss: 0.0018 - accuracy: 0.3785 - val_loss: 0.0021 - val_accuracy: 0.3759\n",
      "Epoch 32/1000\n",
      "356/356 [==============================] - 1s 3ms/step - loss: 0.0018 - accuracy: 0.3793 - val_loss: 0.0021 - val_accuracy: 0.3765\n",
      "Epoch 33/1000\n",
      "356/356 [==============================] - 1s 3ms/step - loss: 0.0017 - accuracy: 0.3798 - val_loss: 0.0020 - val_accuracy: 0.3797\n",
      "Epoch 34/1000\n",
      "356/356 [==============================] - 1s 3ms/step - loss: 0.0017 - accuracy: 0.3806 - val_loss: 0.0020 - val_accuracy: 0.3776\n",
      "Epoch 35/1000\n",
      "356/356 [==============================] - 1s 3ms/step - loss: 0.0016 - accuracy: 0.3817 - val_loss: 0.0020 - val_accuracy: 0.3770\n",
      "Epoch 36/1000\n",
      "356/356 [==============================] - 1s 3ms/step - loss: 0.0016 - accuracy: 0.3813 - val_loss: 0.0019 - val_accuracy: 0.3789\n",
      "Epoch 37/1000\n",
      "356/356 [==============================] - 1s 3ms/step - loss: 0.0016 - accuracy: 0.3824 - val_loss: 0.0019 - val_accuracy: 0.3801\n",
      "Epoch 38/1000\n",
      "356/356 [==============================] - 1s 3ms/step - loss: 0.0015 - accuracy: 0.3829 - val_loss: 0.0019 - val_accuracy: 0.3802\n",
      "Epoch 38: early stopping\n"
     ]
    }
   ],
   "source": [
    "#Autoencoder Arch-1\n",
    "xInp=Input(shape=(28,28),name=\"img\")\n",
    "inp=Flatten(input_shape=(28, 28), name='InputLayer')(xInp)\n",
    "\n",
    "encodedOut=Dense(encodingDim,activation='sigmoid')(inp)\n",
    "\n",
    "Encoder1=Model(xInp,encodedOut,name='encoder')\n",
    "\n",
    "\n",
    "decodedOut=Dense(784,activation='sigmoid')(encodedOut)\n",
    "out=Reshape((28,28))(decodedOut)\n",
    "optimizer=Adam(learning_rate=0.001,beta_1=0.9,beta_2=0.999,epsilon=1e-6,name='Adam')\n",
    "\n",
    "Autoencoder1=Model(xInp,out,name='AutoencoderA1')\n",
    "Autoencoder1.summary()\n",
    "\n",
    "es = EarlyStopping(monitor='loss',min_delta=0.0001, patience=3,verbose=1)\n",
    "\n",
    "Autoencoder1.compile(optimizer, loss='mse',metrics=['accuracy'])\n",
    "ae1history=Autoencoder1.fit(x = Input_train_Dataset, y = Input_train_Dataset, batch_size = 32, epochs = 1000, verbose = \"auto\", callbacks=[es], validation_data=(Input_val_Dataset,  Input_val_Dataset))\n",
    "#, validation_batch_size=1"
   ]
  },
  {
   "cell_type": "code",
   "execution_count": 47,
   "id": "1e36fa7f",
   "metadata": {},
   "outputs": [
    {
     "name": "stdout",
     "output_type": "stream",
     "text": [
      "\n",
      "Average reconstruction Loss :\n",
      "11385/11385 [==============================] - 9s 760us/step - loss: 0.0015 - accuracy: 0.3828\n",
      "Train Data: 0.0014981088461354375\n",
      "3795/3795 [==============================] - 3s 751us/step - loss: 0.0019 - accuracy: 0.3802\n",
      "Validation Data: 0.001885102246887982\n",
      "3795/3795 [==============================] - 3s 750us/step - loss: 0.0019 - accuracy: 0.3801\n",
      "Test Data: 0.0019417020957916975\n"
     ]
    }
   ],
   "source": [
    "#Reconstruction Error-2c\n",
    "print('\\nAverage reconstruction Loss :')\n",
    "trainErr=Autoencoder1.evaluate(x=Input_train_Dataset,y=Input_train_Dataset,batch_size=1, verbose=\"auto\",callbacks=None)\n",
    "print('Train Data:',trainErr[0])\n",
    "\n",
    "#print('\\nEvaluation of model on validation data:')\n",
    "valErr=Autoencoder1.evaluate(x=Input_val_Dataset, y=Input_val_Dataset, batch_size=1, verbose=\"auto\",callbacks=None)\n",
    "print('Validation Data:',valErr[0])\n",
    "\n",
    "#print('\\nEvaluation of model on test data: Average Reconstruction Error')\n",
    "testErr=Autoencoder1.evaluate(x=Input_test_Dataset, y=Input_test_Dataset, batch_size=1, verbose=\"auto\",callbacks=None)\n",
    "print('Test Data:',testErr[0])"
   ]
  },
  {
   "cell_type": "code",
   "execution_count": 48,
   "id": "49e5096c",
   "metadata": {},
   "outputs": [
    {
     "name": "stdout",
     "output_type": "stream",
     "text": [
      "356/356 [==============================] - 0s 892us/step\n"
     ]
    },
    {
     "data": {
      "text/plain": [
       "[<matplotlib.lines.Line2D at 0x181f14810>]"
      ]
     },
     "execution_count": 48,
     "metadata": {},
     "output_type": "execute_result"
    },
    {
     "data": {
      "image/png": "[encoded data removed]",
      "text/plain": [
       "<Figure size 640x480 with 1 Axes>"
      ]
     },
     "metadata": {},
     "output_type": "display_data"
    }
   ],
   "source": [
    "'''visualization-Task2-d'''\n",
    "trainReconstruct=Autoencoder1.predict(Input_train_Dataset)\n",
    "plt.plot(ae1history.history['loss'])"
   ]
  },
  {
   "cell_type": "code",
   "execution_count": 49,
   "id": "efec0307",
   "metadata": {},
   "outputs": [
    {
     "data": {
      "image/png": "[encoded data removed]",
      "text/plain": [
       "<Figure size 2000x400 with 10 Axes>"
      ]
     },
     "metadata": {},
     "output_type": "display_data"
    }
   ],
   "source": [
    "n=5\n",
    "plt.figure(figsize=(20,4))\n",
    "for i in range(n):\n",
    "    #displaying original image\n",
    "    #clss=n\n",
    "    idx=np.where(Output_train==i)[0][0]\n",
    "    ax=plt.subplot(2,n,i+1)\n",
    "    plt.imshow(Input_train_Dataset[idx].reshape(28,28),cmap='gray')\n",
    "    ax.get_xaxis().set_visible(False)\n",
    "    ax.get_yaxis().set_visible(False)\n",
    "\n",
    "    #displaying reconstructed image\n",
    "    ax=plt.subplot(2,n,i+1+n)\n",
    "    plt.imshow(trainReconstruct[idx].reshape(28,28),cmap='gray')\n",
    "    #plt.imshow(trainEncode[i].reshape(8,8),cmap='gray')\n",
    "    ax.get_xaxis().set_visible(False)\n",
    "    ax.get_yaxis().set_visible(False)\n",
    "\n",
    "plt.show()\n"
   ]
  },
  {
   "cell_type": "code",
   "execution_count": null,
   "id": "00ada8c1",
   "metadata": {},
   "outputs": [],
   "source": []
  },
  {
   "cell_type": "code",
   "execution_count": 114,
   "id": "c3334584",
   "metadata": {},
   "outputs": [
    {
     "data": {
      "image/png": "[encoded data removed]",
      "text/plain": [
       "<Figure size 2000x400 with 10 Axes>"
      ]
     },
     "metadata": {},
     "output_type": "display_data"
    }
   ],
   "source": [
    "n=5\n",
    "plt.figure(figsize=(20,4))\n",
    "for i in range(n):\n",
    "    #displaying original image\n",
    "    #clss=n\n",
    "    idx=np.where(Output_train==i)[0][0]\n",
    "    ax=plt.subplot(2,n,i+1)\n",
    "    plt.imshow(Input_train_Dataset[idx].reshape(28,28),cmap='gray')\n",
    "    ax.get_xaxis().set_visible(False)\n",
    "    ax.get_yaxis().set_visible(False)\n",
    "\n",
    "    #displaying reconstructed image\n",
    "    ax=plt.subplot(2,n,i+1+n)\n",
    "    plt.imshow(trainReconstruct[idx].reshape(28,28),cmap='gray')\n",
    "    #plt.imshow(trainEncode[i].reshape(8,8),cmap='gray')\n",
    "    ax.get_xaxis().set_visible(False)\n",
    "    ax.get_yaxis().set_visible(False)\n",
    "\n",
    "plt.show()"
   ]
  },
  {
   "cell_type": "code",
   "execution_count": 141,
   "id": "9b0a3145",
   "metadata": {},
   "outputs": [
    {
     "name": "stdout",
     "output_type": "stream",
     "text": [
      "(784, 128)\n",
      "[[ 0.05379932 -0.00471682 -0.00166921 ...  0.03374618  0.07913709\n",
      "  -0.02719868]\n",
      " [-0.05886663  0.07904799 -0.03114292 ... -0.05644067  0.01118864\n",
      "  -0.01602008]\n",
      " [ 0.0696265   0.08089209 -0.04265348 ... -0.07946933  0.01224279\n",
      "  -0.04185612]\n",
      " ...\n",
      " [-0.02878525 -0.05755094 -0.06834822 ...  0.06324799 -0.05920504\n",
      "   0.04187544]\n",
      " [-0.05790605 -0.01429669  0.0607636  ...  0.08057722 -0.07855268\n",
      "  -0.02503293]\n",
      " [ 0.06971275 -0.00773629 -0.00066928 ...  0.08041174  0.01539238\n",
      "   0.05107469]]\n"
     ]
    }
   ],
   "source": [
    "#Task-6\n",
    "#Since 256 is best encoding dimesion so weight visualization from input to compressed layer:\n",
    "weights = Autoencoder1.layers[2].get_weights()[0]\n",
    "print(weights.shape)\n",
    "print(weights)"
   ]
  },
  {
   "cell_type": "code",
   "execution_count": 147,
   "id": "d32597ab",
   "metadata": {},
   "outputs": [
    {
     "data": {
      "text/plain": [
       "(128, 28, 28)"
      ]
     },
     "execution_count": 147,
     "metadata": {},
     "output_type": "execute_result"
    }
   ],
   "source": [
    "wt=[]\n",
    "for w in weights.T:\n",
    "    wt.append(w.reshape(28,28))\n",
    "wt=np.array(wt)\n",
    "wt.shape"
   ]
  },
  {
   "cell_type": "code",
   "execution_count": null,
   "id": "00b8186e",
   "metadata": {},
   "outputs": [],
   "source": [
    "n = 9\n",
    "plt.figure(figsize=(25, 25))\n",
    "for i in range(n):\n",
    "    k = np.random.randint(0, 256)\n",
    "    ax = plt.subplot(3, 3, i+1)\n",
    "    plt.title(\"Node no: \"+str(k))\n",
    "    plt.imshow(w1[k], cmap='gray')\n",
    "    plt.savefig(\"/content/drive/MyDrive/autoencoder_output/weight_img5\"+str(np.random.randint(1, 100000))+\".png\")\n",
    "plt.show"
   ]
  },
  {
   "cell_type": "code",
   "execution_count": null,
   "id": "2c4b8f2a",
   "metadata": {},
   "outputs": [],
   "source": [
    "n=10\n",
    "plt.figure(figsize=(20,4))\n",
    "for i in range(n):\n",
    "    ax=plt.subplot(3,3,i+1)\n",
    "    plt.imshow(Input_train_Dataset[idx].reshape(28,28),cmap='gray')"
   ]
  },
  {
   "cell_type": "code",
   "execution_count": 188,
   "id": "996ab46d",
   "metadata": {},
   "outputs": [
    {
     "data": {
      "image/png": "[encoded data removed]",
      "text/plain": [
       "<Figure size 2000x2000 with 6 Axes>"
      ]
     },
     "metadata": {},
     "output_type": "display_data"
    }
   ],
   "source": [
    "n=6\n",
    "plt.figure(figsize=(20,20))\n",
    "for i in range(n):\n",
    "    #displaying original image\n",
    "    #clss=n\n",
    "    #idx=np.where(Output_train==i)[0][0]\n",
    "    ax=plt.subplot(2,3,i+1)\n",
    "    plt.title('Neuron-'+str(i))\n",
    "    plt.imshow(weights.T[i].reshape(28,28),cmap='gray')\n",
    "    ax.get_xaxis().set_visible(False)\n",
    "    ax.get_yaxis().set_visible(False)"
   ]
  },
  {
   "cell_type": "code",
   "execution_count": 189,
   "id": "60319288",
   "metadata": {},
   "outputs": [
    {
     "data": {
      "text/plain": [
       "<matplotlib.image.AxesImage at 0x18f8ac450>"
      ]
     },
     "execution_count": 189,
     "metadata": {},
     "output_type": "execute_result"
    },
    {
     "data": {
      "image/png": "[encoded data removed]",
      "text/plain": [
       "<Figure size 640x480 with 1 Axes>"
      ]
     },
     "metadata": {},
     "output_type": "display_data"
    }
   ],
   "source": [
    "plt.imshow(Input_train_Dataset[0].reshape(28,28),cmap='gray')"
   ]
  },
  {
   "cell_type": "code",
   "execution_count": 51,
   "id": "d24ed663",
   "metadata": {},
   "outputs": [
    {
     "data": {
      "text/plain": [
       "<matplotlib.image.AxesImage at 0x1826092d0>"
      ]
     },
     "execution_count": 51,
     "metadata": {},
     "output_type": "execute_result"
    },
    {
     "data": {
      "image/png": "[encoded data removed]",
      "text/plain": [
       "<Figure size 640x480 with 1 Axes>"
      ]
     },
     "metadata": {},
     "output_type": "display_data"
    }
   ],
   "source": [
    "plt.imshow(trainReconstruct[0].reshape(28,28),cmap='gray')"
   ]
  },
  {
   "cell_type": "code",
   "execution_count": 52,
   "id": "dec38d1f",
   "metadata": {},
   "outputs": [
    {
     "name": "stdout",
     "output_type": "stream",
     "text": [
      "356/356 [==============================] - 0s 760us/step\n",
      "119/119 [==============================] - 0s 779us/step\n",
      "119/119 [==============================] - 0s 755us/step\n",
      "Epoch 1/10000\n",
      "356/356 [==============================] - 9s 17ms/step - loss: 0.4335 - accuracy: 0.8396 - val_loss: 0.0983 - val_accuracy: 0.9689\n",
      "Epoch 2/10000\n",
      "356/356 [==============================] - 6s 17ms/step - loss: 0.1187 - accuracy: 0.9631 - val_loss: 0.1247 - val_accuracy: 0.9578\n",
      "Epoch 3/10000\n",
      "356/356 [==============================] - 6s 16ms/step - loss: 0.1040 - accuracy: 0.9657 - val_loss: 0.0805 - val_accuracy: 0.9731\n",
      "Epoch 4/10000\n",
      "356/356 [==============================] - 6s 16ms/step - loss: 0.0929 - accuracy: 0.9697 - val_loss: 0.0896 - val_accuracy: 0.9718\n",
      "Epoch 5/10000\n",
      "356/356 [==============================] - 6s 16ms/step - loss: 0.0898 - accuracy: 0.9709 - val_loss: 0.1066 - val_accuracy: 0.9631\n",
      "Epoch 6/10000\n",
      "356/356 [==============================] - 6s 16ms/step - loss: 0.0903 - accuracy: 0.9689 - val_loss: 0.0872 - val_accuracy: 0.9673\n",
      "Epoch 7/10000\n",
      "356/356 [==============================] - 6s 16ms/step - loss: 0.0847 - accuracy: 0.9717 - val_loss: 0.1272 - val_accuracy: 0.9568\n",
      "Epoch 8/10000\n",
      "356/356 [==============================] - 6s 17ms/step - loss: 0.0723 - accuracy: 0.9750 - val_loss: 0.0667 - val_accuracy: 0.9779\n",
      "Epoch 9/10000\n",
      "356/356 [==============================] - 6s 16ms/step - loss: 0.0624 - accuracy: 0.9792 - val_loss: 0.0695 - val_accuracy: 0.9755\n",
      "Epoch 10/10000\n",
      "356/356 [==============================] - 6s 16ms/step - loss: 0.0568 - accuracy: 0.9815 - val_loss: 0.0619 - val_accuracy: 0.9808\n",
      "Epoch 11/10000\n",
      "356/356 [==============================] - 6s 16ms/step - loss: 0.0573 - accuracy: 0.9810 - val_loss: 0.0683 - val_accuracy: 0.9789\n",
      "Epoch 12/10000\n",
      "356/356 [==============================] - 6s 16ms/step - loss: 0.0470 - accuracy: 0.9845 - val_loss: 0.0671 - val_accuracy: 0.9797\n",
      "Epoch 13/10000\n",
      "356/356 [==============================] - 6s 16ms/step - loss: 0.0455 - accuracy: 0.9860 - val_loss: 0.0697 - val_accuracy: 0.9810\n",
      "Epoch 14/10000\n",
      "356/356 [==============================] - 6s 16ms/step - loss: 0.0422 - accuracy: 0.9866 - val_loss: 0.0819 - val_accuracy: 0.9763\n",
      "Epoch 15/10000\n",
      "356/356 [==============================] - 6s 16ms/step - loss: 0.0370 - accuracy: 0.9881 - val_loss: 0.0757 - val_accuracy: 0.9773\n",
      "Epoch 16/10000\n",
      "356/356 [==============================] - 6s 16ms/step - loss: 0.0326 - accuracy: 0.9893 - val_loss: 0.0656 - val_accuracy: 0.9781\n",
      "Epoch 17/10000\n",
      "356/356 [==============================] - 6s 16ms/step - loss: 0.0382 - accuracy: 0.9868 - val_loss: 0.0609 - val_accuracy: 0.9792\n",
      "Epoch 18/10000\n",
      "356/356 [==============================] - 7s 19ms/step - loss: 0.0262 - accuracy: 0.9903 - val_loss: 0.0636 - val_accuracy: 0.9792\n",
      "Epoch 19/10000\n",
      "356/356 [==============================] - 7s 19ms/step - loss: 0.0257 - accuracy: 0.9918 - val_loss: 0.0896 - val_accuracy: 0.9723\n",
      "Epoch 20/10000\n",
      "356/356 [==============================] - 6s 16ms/step - loss: 0.0206 - accuracy: 0.9931 - val_loss: 0.1105 - val_accuracy: 0.9736\n",
      "Epoch 21/10000\n",
      "356/356 [==============================] - 6s 16ms/step - loss: 0.0238 - accuracy: 0.9924 - val_loss: 0.0648 - val_accuracy: 0.9826\n",
      "Epoch 22/10000\n",
      "356/356 [==============================] - 6s 17ms/step - loss: 0.0202 - accuracy: 0.9931 - val_loss: 0.0742 - val_accuracy: 0.9784\n",
      "Epoch 23/10000\n",
      "356/356 [==============================] - 6s 17ms/step - loss: 0.0181 - accuracy: 0.9942 - val_loss: 0.0775 - val_accuracy: 0.9802\n",
      "Epoch 24/10000\n",
      "356/356 [==============================] - 6s 16ms/step - loss: 0.0164 - accuracy: 0.9946 - val_loss: 0.0771 - val_accuracy: 0.9816\n",
      "Epoch 25/10000\n",
      "356/356 [==============================] - 6s 16ms/step - loss: 0.0138 - accuracy: 0.9953 - val_loss: 0.0555 - val_accuracy: 0.9855\n",
      "Epoch 26/10000\n",
      "356/356 [==============================] - 6s 16ms/step - loss: 0.0156 - accuracy: 0.9948 - val_loss: 0.0875 - val_accuracy: 0.9797\n",
      "Epoch 27/10000\n",
      "356/356 [==============================] - 6s 16ms/step - loss: 0.0136 - accuracy: 0.9958 - val_loss: 0.0651 - val_accuracy: 0.9821\n",
      "Epoch 28/10000\n",
      "356/356 [==============================] - 6s 17ms/step - loss: 0.0137 - accuracy: 0.9956 - val_loss: 0.0624 - val_accuracy: 0.9845\n",
      "Epoch 29/10000\n",
      "356/356 [==============================] - 6s 16ms/step - loss: 0.0101 - accuracy: 0.9959 - val_loss: 0.0744 - val_accuracy: 0.9839\n",
      "Epoch 30/10000\n",
      "356/356 [==============================] - 6s 16ms/step - loss: 0.0139 - accuracy: 0.9946 - val_loss: 0.0790 - val_accuracy: 0.9771\n",
      "Epoch 31/10000\n",
      "356/356 [==============================] - 6s 16ms/step - loss: 0.0104 - accuracy: 0.9967 - val_loss: 0.0566 - val_accuracy: 0.9852\n",
      "Epoch 32/10000\n",
      "356/356 [==============================] - 6s 16ms/step - loss: 0.0176 - accuracy: 0.9943 - val_loss: 0.0574 - val_accuracy: 0.9845\n",
      "Epoch 32: early stopping\n"
     ]
    }
   ],
   "source": [
    "'''Task3'''\n",
    "#trainEncode=a1Encoder.predict(Input_train_Dataset)\n",
    "'''Dataset used for prediction and evaluation in FCNN-Encoded data'''\n",
    "trainEncode=Encoder1.predict(Input_train_Dataset)\n",
    "valEncode=Encoder1.predict(Input_val_Dataset)\n",
    "testEncode=Encoder1.predict(Input_test_Dataset)\n",
    "\n",
    "'''Fcnn'''\n",
    "model = keras.Sequential([\n",
    "        #Flatten(input_shape=(28, 28), name='InputLayer'),\n",
    "        Dense(1024, activation=\"sigmoid\", name=\"Hlayer1\",kernel_initializer=initializer, bias_initializer=initializers.Zeros()),\n",
    "        Dense(512, activation=\"sigmoid\", name=\"Hlayer2\",kernel_initializer=initializer, bias_initializer=initializers.Zeros()),\n",
    "        Dense(256, activation=\"sigmoid\", name=\"Hlayer3\",kernel_initializer=initializer, bias_initializer=initializers.Zeros()),\n",
    "        Dense(5, activation=\"softmax\", name=\"output\"),\n",
    "        ])\n",
    "#model.summary()\n",
    "\n",
    "adam =Adam(learning_rate=0.001,beta_1=0.9,beta_2=0.999,epsilon=1e-8,name='Adam')\n",
    "\n",
    "\n",
    "model.compile(optimizer=adam, loss='sparse_categorical_crossentropy', metrics=['accuracy'])\n",
    "\n",
    "es = EarlyStopping(monitor='loss',min_delta=0.0001, patience=3,verbose=1)\n",
    "\n",
    "model_fit = model.fit(x = trainEncode, y = Output_train, batch_size = 32, epochs = 10000, verbose = \"auto\", callbacks=[es], validation_data=(valEncode,  Output_val), validation_batch_size=1)\n",
    "\n",
    "model.save('/Users/vds/Downloads/modelAssign4/ae256.h5')\n",
    "f=open('/Users/vds/Downloads/modelAssign4/Histae256.pckl','wb')\n",
    "p.dump(model_fit.history,f)\n",
    "f.close()\n",
    "\n",
    "\n"
   ]
  },
  {
   "cell_type": "code",
   "execution_count": 53,
   "id": "2e9b0874",
   "metadata": {},
   "outputs": [
    {
     "name": "stdout",
     "output_type": "stream",
     "text": [
      "\n",
      "Evaluation of model on train data:\n",
      "11385/11385 [==============================] - 11s 929us/step - loss: 0.0079 - accuracy: 0.9971\n",
      "['loss', 'accuracy']\n",
      "[0.00792756024748087, 0.9971014261245728]\n",
      "\n",
      "Evaluation of model on validation data:\n",
      "3795/3795 [==============================] - 5s 1ms/step - loss: 0.0574 - accuracy: 0.9845\n",
      "['loss', 'accuracy']\n",
      "[0.05742500722408295, 0.9844532012939453]\n",
      "\n",
      "Evaluation of model on test data:\n",
      "3795/3795 [==============================] - 4s 1ms/step - loss: 0.0798 - accuracy: 0.9816\n",
      "['loss', 'accuracy']\n",
      "[0.07981640100479126, 0.9815546870231628]\n",
      "\n",
      "Predictions for test data:\n",
      "3795/3795 [==============================] - 4s 1ms/step\n",
      "[4 4 4 ... 1 1 1]\n",
      "tf.Tensor(\n",
      "[[747   1   5   1   5]\n",
      " [  0 752   3   3   1]\n",
      " [  3   1 751   0   4]\n",
      " [  1   5   4 737  12]\n",
      " [  4   3   0  14 738]], shape=(5, 5), dtype=int32)\n"
     ]
    }
   ],
   "source": [
    "#FCNN Error\n",
    "print('\\nEvaluation of model on train data:')\n",
    "trainAcc=model.evaluate(x=trainEncode,y=Output_train,batch_size=1, verbose=\"auto\",callbacks=None)\n",
    "print(model.metrics_names)\n",
    "print(trainAcc)\n",
    "\n",
    "print('\\nEvaluation of model on validation data:')\n",
    "valAcc=model.evaluate(x=valEncode, y=Output_val, batch_size=1, verbose=\"auto\",callbacks=None)\n",
    "print(model.metrics_names)\n",
    "print(valAcc)\n",
    "\n",
    "print('\\nEvaluation of model on test data:')\n",
    "testAcc=model.evaluate(x=testEncode, y=Output_test, batch_size=1, verbose=\"auto\",callbacks=None)\n",
    "print(model.metrics_names)\n",
    "print(testAcc)\n",
    "\n",
    "print('\\nPredictions for test data:')\n",
    "testProb=model.predict(testEncode, batch_size=1, verbose=\"auto\", callbacks=None)\n",
    "pred=np.argmax(testProb,axis=1)\n",
    "print(pred)\n",
    "\n",
    "#3-3\n",
    "#confusionMatrix=confusion_matrix(Output_test, pred)\n",
    "confusionMatrix=tf.math.confusion_matrix(Output_test,pred)\n",
    "#confusionMatrix=tf.math.confusion_matrix(Output_test, pred5)\n",
    "print(confusionMatrix)"
   ]
  },
  {
   "cell_type": "code",
   "execution_count": null,
   "id": "ec69174c",
   "metadata": {},
   "outputs": [],
   "source": []
  },
  {
   "cell_type": "code",
   "execution_count": null,
   "id": "0ea27f7e",
   "metadata": {},
   "outputs": [],
   "source": []
  },
  {
   "cell_type": "code",
   "execution_count": null,
   "id": "c79e49a2",
   "metadata": {},
   "outputs": [],
   "source": []
  },
  {
   "cell_type": "code",
   "execution_count": 72,
   "id": "a3c5ff80",
   "metadata": {},
   "outputs": [],
   "source": [
    "initializer = tf.keras.initializers.RandomNormal(mean=0.0, stddev=0.05, seed=100)"
   ]
  },
  {
   "cell_type": "code",
   "execution_count": 73,
   "id": "983beb6a",
   "metadata": {},
   "outputs": [],
   "source": [
    "#print('Initializer: ',initializer)\n",
    "\n",
    "def Upload_Dataset(Dataset_Path):\n",
    "    \n",
    "    Path_train_Dataset = Dataset_Path+\"/train\"\n",
    "    Path_test_Dataset = Dataset_Path+\"/test\"\n",
    "    Path_val_Dataset = Dataset_Path+\"/val\"\n",
    "    \n",
    "    Input_train_Dataset, Input_test_Dataset, Input_val_Dataset = [], [], []\n",
    "    Output_train, Output_test, Output_val = [], [], []\n",
    "\n",
    "    for j in os.listdir(Path_train_Dataset):\n",
    "\n",
    "        if j != \".DS_Store\":\n",
    "            for k in os.listdir(Path_train_Dataset+\"/\"+j):\n",
    "                Input_train_Dataset.append(cv2.imread(Path_train_Dataset+\"/\"+j+\"/\"+k, cv2.IMREAD_GRAYSCALE))\n",
    "                if(j == '6'):\n",
    "                    Output_train.append(int(2))\n",
    "                elif(j == '7'):\n",
    "                    Output_train.append(int(3))\n",
    "                elif(j == '9'):\n",
    "                    Output_train.append(int(4))\n",
    "                else:\n",
    "                    Output_train.append(int(j))\n",
    "\n",
    "            for k in os.listdir(Path_test_Dataset+\"/\"+j):\n",
    "                Input_test_Dataset.append(cv2.imread(Path_test_Dataset+\"/\"+j+\"/\"+k, cv2.IMREAD_GRAYSCALE))\n",
    "                if(j=='6'):\n",
    "                    Output_test.append(int(2))\n",
    "                elif(j=='7'):\n",
    "                    Output_test.append(int(3))\n",
    "                elif(j=='9'):\n",
    "                    Output_test.append(int(4))\n",
    "                else:\n",
    "                    Output_test.append(int(j))\n",
    "\n",
    "            for k in os.listdir(Path_val_Dataset+\"/\"+j):\n",
    "                Input_val_Dataset.append(cv2.imread(Path_val_Dataset+\"/\"+j+\"/\"+k, cv2.IMREAD_GRAYSCALE))\n",
    "                if(j=='6'):\n",
    "                    Output_val.append(int(2))\n",
    "                elif(j=='7'):\n",
    "                    Output_val.append(int(3))\n",
    "                elif(j=='9'):\n",
    "                    Output_val.append(int(4))\n",
    "                else:\n",
    "                    Output_val.append(int(j))\n",
    "        \n",
    "    #print(Output_train)            \n",
    "    Input_train_Dataset, Input_test_Dataset, Input_val_Dataset = np.array(Input_train_Dataset), np.array(Input_test_Dataset), np.array(Input_val_Dataset)\n",
    "    #Output_train, Output_test, Output_val = np.array(list(map(int, Output_train))), np.array(list(map(int, Output_test))), np.array(list(map(int, Output_val)))\n",
    "    Output_train, Output_test, Output_val = np.array(Output_train), np.array(Output_test), np.array(Output_val)\n",
    "    #print(Output_train) \n",
    "    return Input_train_Dataset, Input_test_Dataset,Input_val_Dataset, Output_train, Output_test, Output_val"
   ]
  },
  {
   "cell_type": "code",
   "execution_count": 74,
   "id": "00157f8f",
   "metadata": {},
   "outputs": [],
   "source": [
    "#providing path of  MNIST dataset\n",
    "Dataset_Path = \"/Users/vds/Downloads/Group_1\"\n",
    "\n",
    "\n",
    "#calling Upload_Dataset function\n",
    "Input_train_Dataset, Input_test_Dataset,Input_val_Dataset, Output_train, Output_test, Output_val= Upload_Dataset(Dataset_Path)\n",
    "\n",
    "\n",
    "\n",
    "Input_train_Dataset=Input_train_Dataset/255\n",
    "Input_test_Dataset=Input_test_Dataset/255\n",
    "Input_val_Dataset=Input_val_Dataset/255\n",
    "#bottleneck dimension\n",
    "encodingDim2=128"
   ]
  },
  {
   "cell_type": "code",
   "execution_count": 75,
   "id": "a085b0a4",
   "metadata": {},
   "outputs": [
    {
     "name": "stdout",
     "output_type": "stream",
     "text": [
      "Model: \"AutoencoderA1\"\n",
      "_________________________________________________________________\n",
      " Layer (type)                Output Shape              Param #   \n",
      "=================================================================\n",
      " img (InputLayer)            [(None, 28, 28)]          0         \n",
      "                                                                 \n",
      " InputLayer (Flatten)        (None, 784)               0         \n",
      "                                                                 \n",
      " dense_16 (Dense)            (None, 128)               100480    \n",
      "                                                                 \n",
      " dense_17 (Dense)            (None, 784)               101136    \n",
      "                                                                 \n",
      " reshape_8 (Reshape)         (None, 28, 28)            0         \n",
      "                                                                 \n",
      "=================================================================\n",
      "Total params: 201,616\n",
      "Trainable params: 201,616\n",
      "Non-trainable params: 0\n",
      "_________________________________________________________________\n",
      "Epoch 1/1000\n",
      "356/356 [==============================] - 2s 4ms/step - loss: 0.0593 - accuracy: 0.1338 - val_loss: 0.0412 - val_accuracy: 0.1929\n",
      "Epoch 2/1000\n",
      "356/356 [==============================] - 1s 3ms/step - loss: 0.0345 - accuracy: 0.2264 - val_loss: 0.0296 - val_accuracy: 0.2477\n",
      "Epoch 3/1000\n",
      "356/356 [==============================] - 1s 4ms/step - loss: 0.0263 - accuracy: 0.2638 - val_loss: 0.0235 - val_accuracy: 0.2779\n",
      "Epoch 4/1000\n",
      "356/356 [==============================] - 2s 5ms/step - loss: 0.0211 - accuracy: 0.2885 - val_loss: 0.0192 - val_accuracy: 0.2969\n",
      "Epoch 5/1000\n",
      "356/356 [==============================] - 1s 3ms/step - loss: 0.0174 - accuracy: 0.3054 - val_loss: 0.0161 - val_accuracy: 0.3096\n",
      "Epoch 6/1000\n",
      "356/356 [==============================] - 1s 4ms/step - loss: 0.0147 - accuracy: 0.3166 - val_loss: 0.0137 - val_accuracy: 0.3184\n",
      "Epoch 7/1000\n",
      "356/356 [==============================] - 1s 3ms/step - loss: 0.0127 - accuracy: 0.3243 - val_loss: 0.0120 - val_accuracy: 0.3263\n",
      "Epoch 8/1000\n",
      "356/356 [==============================] - 1s 2ms/step - loss: 0.0111 - accuracy: 0.3303 - val_loss: 0.0107 - val_accuracy: 0.3302\n",
      "Epoch 9/1000\n",
      "356/356 [==============================] - 1s 2ms/step - loss: 0.0099 - accuracy: 0.3344 - val_loss: 0.0096 - val_accuracy: 0.3336\n",
      "Epoch 10/1000\n",
      "356/356 [==============================] - 1s 2ms/step - loss: 0.0089 - accuracy: 0.3383 - val_loss: 0.0087 - val_accuracy: 0.3384\n",
      "Epoch 11/1000\n",
      "356/356 [==============================] - 1s 2ms/step - loss: 0.0081 - accuracy: 0.3419 - val_loss: 0.0080 - val_accuracy: 0.3389\n",
      "Epoch 12/1000\n",
      "356/356 [==============================] - 1s 2ms/step - loss: 0.0075 - accuracy: 0.3447 - val_loss: 0.0074 - val_accuracy: 0.3435\n",
      "Epoch 13/1000\n",
      "356/356 [==============================] - 1s 2ms/step - loss: 0.0069 - accuracy: 0.3474 - val_loss: 0.0069 - val_accuracy: 0.3449\n",
      "Epoch 14/1000\n",
      "356/356 [==============================] - 1s 2ms/step - loss: 0.0065 - accuracy: 0.3501 - val_loss: 0.0065 - val_accuracy: 0.3477\n",
      "Epoch 15/1000\n",
      "356/356 [==============================] - 1s 2ms/step - loss: 0.0061 - accuracy: 0.3515 - val_loss: 0.0061 - val_accuracy: 0.3499\n",
      "Epoch 16/1000\n",
      "356/356 [==============================] - 1s 2ms/step - loss: 0.0057 - accuracy: 0.3535 - val_loss: 0.0058 - val_accuracy: 0.3515\n",
      "Epoch 17/1000\n",
      "356/356 [==============================] - 1s 2ms/step - loss: 0.0054 - accuracy: 0.3550 - val_loss: 0.0056 - val_accuracy: 0.3518\n",
      "Epoch 18/1000\n",
      "356/356 [==============================] - 1s 2ms/step - loss: 0.0051 - accuracy: 0.3559 - val_loss: 0.0053 - val_accuracy: 0.3534\n",
      "Epoch 19/1000\n",
      "356/356 [==============================] - 1s 2ms/step - loss: 0.0049 - accuracy: 0.3574 - val_loss: 0.0051 - val_accuracy: 0.3552\n",
      "Epoch 20/1000\n",
      "356/356 [==============================] - 1s 2ms/step - loss: 0.0047 - accuracy: 0.3584 - val_loss: 0.0049 - val_accuracy: 0.3561\n",
      "Epoch 21/1000\n",
      "356/356 [==============================] - 1s 2ms/step - loss: 0.0045 - accuracy: 0.3594 - val_loss: 0.0047 - val_accuracy: 0.3584\n",
      "Epoch 22/1000\n",
      "356/356 [==============================] - 1s 2ms/step - loss: 0.0043 - accuracy: 0.3604 - val_loss: 0.0046 - val_accuracy: 0.3564\n",
      "Epoch 23/1000\n",
      "356/356 [==============================] - 1s 2ms/step - loss: 0.0042 - accuracy: 0.3610 - val_loss: 0.0044 - val_accuracy: 0.3593\n",
      "Epoch 24/1000\n",
      "356/356 [==============================] - 1s 2ms/step - loss: 0.0040 - accuracy: 0.3620 - val_loss: 0.0043 - val_accuracy: 0.3597\n",
      "Epoch 25/1000\n",
      "356/356 [==============================] - 1s 2ms/step - loss: 0.0039 - accuracy: 0.3628 - val_loss: 0.0042 - val_accuracy: 0.3606\n",
      "Epoch 26/1000\n",
      "356/356 [==============================] - 1s 3ms/step - loss: 0.0037 - accuracy: 0.3638 - val_loss: 0.0040 - val_accuracy: 0.3608\n",
      "Epoch 27/1000\n",
      "356/356 [==============================] - 1s 3ms/step - loss: 0.0036 - accuracy: 0.3650 - val_loss: 0.0039 - val_accuracy: 0.3626\n",
      "Epoch 28/1000\n",
      "356/356 [==============================] - 1s 3ms/step - loss: 0.0035 - accuracy: 0.3657 - val_loss: 0.0038 - val_accuracy: 0.3624\n",
      "Epoch 29/1000\n",
      "356/356 [==============================] - 1s 2ms/step - loss: 0.0034 - accuracy: 0.3660 - val_loss: 0.0038 - val_accuracy: 0.3628\n",
      "Epoch 30/1000\n",
      "356/356 [==============================] - 1s 2ms/step - loss: 0.0033 - accuracy: 0.3669 - val_loss: 0.0037 - val_accuracy: 0.3628\n",
      "Epoch 31/1000\n",
      "356/356 [==============================] - 1s 2ms/step - loss: 0.0032 - accuracy: 0.3673 - val_loss: 0.0036 - val_accuracy: 0.3630\n",
      "Epoch 32/1000\n",
      "356/356 [==============================] - 1s 2ms/step - loss: 0.0032 - accuracy: 0.3680 - val_loss: 0.0035 - val_accuracy: 0.3648\n",
      "Epoch 33/1000\n",
      "356/356 [==============================] - 1s 2ms/step - loss: 0.0031 - accuracy: 0.3686 - val_loss: 0.0035 - val_accuracy: 0.3647\n",
      "Epoch 34/1000\n",
      "356/356 [==============================] - 1s 2ms/step - loss: 0.0030 - accuracy: 0.3691 - val_loss: 0.0034 - val_accuracy: 0.3669\n",
      "Epoch 35/1000\n",
      "356/356 [==============================] - 1s 2ms/step - loss: 0.0029 - accuracy: 0.3691 - val_loss: 0.0033 - val_accuracy: 0.3665\n",
      "Epoch 36/1000\n",
      "356/356 [==============================] - 1s 2ms/step - loss: 0.0029 - accuracy: 0.3701 - val_loss: 0.0032 - val_accuracy: 0.3664\n",
      "Epoch 37/1000\n",
      "356/356 [==============================] - 1s 2ms/step - loss: 0.0028 - accuracy: 0.3708 - val_loss: 0.0032 - val_accuracy: 0.3667\n",
      "Epoch 38/1000\n",
      "356/356 [==============================] - 1s 2ms/step - loss: 0.0028 - accuracy: 0.3711 - val_loss: 0.0031 - val_accuracy: 0.3684\n",
      "Epoch 39/1000\n",
      "356/356 [==============================] - 1s 2ms/step - loss: 0.0027 - accuracy: 0.3712 - val_loss: 0.0031 - val_accuracy: 0.3668\n",
      "Epoch 40/1000\n",
      "356/356 [==============================] - 1s 2ms/step - loss: 0.0027 - accuracy: 0.3717 - val_loss: 0.0030 - val_accuracy: 0.3697\n",
      "Epoch 41/1000\n",
      "356/356 [==============================] - 1s 2ms/step - loss: 0.0026 - accuracy: 0.3722 - val_loss: 0.0030 - val_accuracy: 0.3704\n",
      "Epoch 42/1000\n",
      "356/356 [==============================] - 1s 2ms/step - loss: 0.0026 - accuracy: 0.3728 - val_loss: 0.0029 - val_accuracy: 0.3678\n",
      "Epoch 43/1000\n",
      "356/356 [==============================] - 1s 2ms/step - loss: 0.0025 - accuracy: 0.3728 - val_loss: 0.0029 - val_accuracy: 0.3696\n",
      "Epoch 44/1000\n",
      "356/356 [==============================] - 1s 2ms/step - loss: 0.0025 - accuracy: 0.3731 - val_loss: 0.0029 - val_accuracy: 0.3705\n",
      "Epoch 45/1000\n",
      "356/356 [==============================] - 1s 2ms/step - loss: 0.0024 - accuracy: 0.3740 - val_loss: 0.0028 - val_accuracy: 0.3700\n",
      "Epoch 46/1000\n",
      "356/356 [==============================] - 1s 2ms/step - loss: 0.0024 - accuracy: 0.3740 - val_loss: 0.0028 - val_accuracy: 0.3721\n",
      "Epoch 47/1000\n",
      "356/356 [==============================] - 1s 2ms/step - loss: 0.0024 - accuracy: 0.3747 - val_loss: 0.0028 - val_accuracy: 0.3708\n",
      "Epoch 48/1000\n",
      "356/356 [==============================] - 1s 2ms/step - loss: 0.0023 - accuracy: 0.3744 - val_loss: 0.0027 - val_accuracy: 0.3695\n",
      "Epoch 49/1000\n",
      "356/356 [==============================] - 1s 2ms/step - loss: 0.0023 - accuracy: 0.3750 - val_loss: 0.0027 - val_accuracy: 0.3719\n",
      "Epoch 50/1000\n"
     ]
    },
    {
     "name": "stdout",
     "output_type": "stream",
     "text": [
      "356/356 [==============================] - 1s 2ms/step - loss: 0.0023 - accuracy: 0.3750 - val_loss: 0.0027 - val_accuracy: 0.3707\n",
      "Epoch 50: early stopping\n"
     ]
    }
   ],
   "source": [
    "#Autoencoder Arch-1\n",
    "xInp2=Input(shape=(28,28),name=\"img\")\n",
    "inp2=Flatten(input_shape=(28, 28), name='InputLayer')(xInp2)\n",
    "\n",
    "encodedOut2=Dense(encodingDim2,activation='sigmoid')(inp2)\n",
    "\n",
    "Encoder2=Model(xInp2,encodedOut2,name='encoder')\n",
    "\n",
    "\n",
    "decodedOut2=Dense(784,activation='sigmoid')(encodedOut2)\n",
    "out2=Reshape((28,28))(decodedOut2)\n",
    "optimizer2=Adam(learning_rate=0.001,beta_1=0.9,beta_2=0.999,epsilon=1e-6,name='Adam')\n",
    "\n",
    "Autoencoder2=Model(xInp2,out2,name='AutoencoderA1')\n",
    "Autoencoder2.summary()\n",
    "\n",
    "es = EarlyStopping(monitor='loss',min_delta=0.0001, patience=3,verbose=1)\n",
    "\n",
    "Autoencoder2.compile(optimizer2, loss='mse',metrics=['accuracy'])\n",
    "ae2history=Autoencoder2.fit(x = Input_train_Dataset, y = Input_train_Dataset, batch_size = 32, epochs = 1000, verbose = \"auto\", callbacks=[es], validation_data=(Input_val_Dataset,  Input_val_Dataset))\n",
    "#, validation_batch_size=1"
   ]
  },
  {
   "cell_type": "code",
   "execution_count": 76,
   "id": "bcf258bc",
   "metadata": {},
   "outputs": [
    {
     "name": "stdout",
     "output_type": "stream",
     "text": [
      "\n",
      "Average reconstruction Loss :\n",
      "11385/11385 [==============================] - 10s 867us/step - loss: 0.0022 - accuracy: 0.3744\n",
      "Train Data: 0.002222404582425952\n",
      "3795/3795 [==============================] - 3s 862us/step - loss: 0.0027 - accuracy: 0.3707\n",
      "Validation Data: 0.002676707925274968\n",
      "3795/3795 [==============================] - 3s 741us/step - loss: 0.0027 - accuracy: 0.3720\n",
      "Test Data: 0.0027492456138134003\n"
     ]
    }
   ],
   "source": [
    "#Reconstruction Error-2c\n",
    "print('\\nAverage reconstruction Loss :')\n",
    "trainErr2=Autoencoder2.evaluate(x=Input_train_Dataset,y=Input_train_Dataset,batch_size=1, verbose=\"auto\",callbacks=None)\n",
    "print('Train Data:',trainErr2[0])\n",
    "\n",
    "#print('\\nEvaluation of model on validation data:')\n",
    "valErr2=Autoencoder2.evaluate(x=Input_val_Dataset, y=Input_val_Dataset, batch_size=1, verbose=\"auto\",callbacks=None)\n",
    "print('Validation Data:',valErr2[0])\n",
    "\n",
    "#print('\\nEvaluation of model on test data: Average Reconstruction Error')\n",
    "testErr2=Autoencoder2.evaluate(x=Input_test_Dataset, y=Input_test_Dataset, batch_size=1, verbose=\"auto\",callbacks=None)\n",
    "print('Test Data:',testErr2[0])"
   ]
  },
  {
   "cell_type": "code",
   "execution_count": 77,
   "id": "d91e2534",
   "metadata": {},
   "outputs": [
    {
     "name": "stdout",
     "output_type": "stream",
     "text": [
      "356/356 [==============================] - 0s 849us/step\n"
     ]
    },
    {
     "data": {
      "text/plain": [
       "[<matplotlib.lines.Line2D at 0x17f204290>]"
      ]
     },
     "execution_count": 77,
     "metadata": {},
     "output_type": "execute_result"
    },
    {
     "data": {
      "image/png": "[encoded data removed]",
      "text/plain": [
       "<Figure size 640x480 with 1 Axes>"
      ]
     },
     "metadata": {},
     "output_type": "display_data"
    }
   ],
   "source": [
    "'''visualization-Task2-d'''\n",
    "trainReconstruct2=Autoencoder2.predict(Input_train_Dataset)\n",
    "plt.plot(ae2history.history['loss'])"
   ]
  },
  {
   "cell_type": "code",
   "execution_count": 78,
   "id": "fc2f46ad",
   "metadata": {},
   "outputs": [
    {
     "data": {
      "image/png": "[encoded data removed]",
      "text/plain": [
       "<Figure size 2000x400 with 10 Axes>"
      ]
     },
     "metadata": {},
     "output_type": "display_data"
    }
   ],
   "source": [
    "n=5\n",
    "plt.figure(figsize=(20,4))\n",
    "for i in range(n):\n",
    "    #displaying original image\n",
    "    #clss=n\n",
    "    idx=np.where(Output_train==i)[0][0]\n",
    "    ax=plt.subplot(2,n,i+1)\n",
    "    plt.imshow(Input_train_Dataset[idx].reshape(28,28),cmap='gray')\n",
    "    ax.get_xaxis().set_visible(False)\n",
    "    ax.get_yaxis().set_visible(False)\n",
    "\n",
    "    #displaying reconstructed image\n",
    "    ax=plt.subplot(2,n,i+1+n)\n",
    "    plt.imshow(trainReconstruct2[idx].reshape(28,28),cmap='gray')\n",
    "    #plt.imshow(trainEncode[i].reshape(8,8),cmap='gray')\n",
    "    ax.get_xaxis().set_visible(False)\n",
    "    ax.get_yaxis().set_visible(False)\n",
    "\n",
    "plt.show()"
   ]
  },
  {
   "cell_type": "code",
   "execution_count": 79,
   "id": "fa6168c9",
   "metadata": {},
   "outputs": [
    {
     "data": {
      "text/plain": [
       "(11385, 128)"
      ]
     },
     "execution_count": 79,
     "metadata": {},
     "output_type": "execute_result"
    }
   ],
   "source": [
    "trainEncode2.shape"
   ]
  },
  {
   "cell_type": "code",
   "execution_count": 80,
   "id": "3244350a",
   "metadata": {},
   "outputs": [
    {
     "name": "stdout",
     "output_type": "stream",
     "text": [
      "356/356 [==============================] - 0s 765us/step\n",
      "119/119 [==============================] - 0s 934us/step\n",
      "119/119 [==============================] - 0s 1ms/step\n",
      "Epoch 1/10000\n",
      "356/356 [==============================] - 7s 18ms/step - loss: 0.5135 - accuracy: 0.8097 - val_loss: 0.1168 - val_accuracy: 0.9623\n",
      "Epoch 2/10000\n",
      "356/356 [==============================] - 6s 16ms/step - loss: 0.1414 - accuracy: 0.9545 - val_loss: 0.1244 - val_accuracy: 0.9599\n",
      "Epoch 3/10000\n",
      "356/356 [==============================] - 5s 15ms/step - loss: 0.1221 - accuracy: 0.9618 - val_loss: 0.1087 - val_accuracy: 0.9679\n",
      "Epoch 4/10000\n",
      "356/356 [==============================] - 6s 16ms/step - loss: 0.1148 - accuracy: 0.9601 - val_loss: 0.0984 - val_accuracy: 0.9673\n",
      "Epoch 5/10000\n",
      "356/356 [==============================] - 5s 15ms/step - loss: 0.1002 - accuracy: 0.9651 - val_loss: 0.1310 - val_accuracy: 0.9573\n",
      "Epoch 6/10000\n",
      "356/356 [==============================] - 5s 15ms/step - loss: 0.1004 - accuracy: 0.9657 - val_loss: 0.1015 - val_accuracy: 0.9676\n",
      "Epoch 7/10000\n",
      "356/356 [==============================] - 6s 16ms/step - loss: 0.0958 - accuracy: 0.9686 - val_loss: 0.1024 - val_accuracy: 0.9642\n",
      "Epoch 8/10000\n",
      "356/356 [==============================] - 6s 16ms/step - loss: 0.0906 - accuracy: 0.9699 - val_loss: 0.0866 - val_accuracy: 0.9700\n",
      "Epoch 9/10000\n",
      "356/356 [==============================] - 6s 17ms/step - loss: 0.0910 - accuracy: 0.9682 - val_loss: 0.0852 - val_accuracy: 0.9710\n",
      "Epoch 10/10000\n",
      "356/356 [==============================] - 9s 24ms/step - loss: 0.0813 - accuracy: 0.9729 - val_loss: 0.0826 - val_accuracy: 0.9729\n",
      "Epoch 11/10000\n",
      "356/356 [==============================] - 6s 17ms/step - loss: 0.0857 - accuracy: 0.9700 - val_loss: 0.0892 - val_accuracy: 0.9723\n",
      "Epoch 12/10000\n",
      "356/356 [==============================] - 5s 15ms/step - loss: 0.0786 - accuracy: 0.9718 - val_loss: 0.0819 - val_accuracy: 0.9718\n",
      "Epoch 13/10000\n",
      "356/356 [==============================] - 5s 15ms/step - loss: 0.0714 - accuracy: 0.9773 - val_loss: 0.1163 - val_accuracy: 0.9615\n",
      "Epoch 14/10000\n",
      "356/356 [==============================] - 6s 17ms/step - loss: 0.0737 - accuracy: 0.9745 - val_loss: 0.1080 - val_accuracy: 0.9623\n",
      "Epoch 15/10000\n",
      "356/356 [==============================] - 6s 17ms/step - loss: 0.0668 - accuracy: 0.9776 - val_loss: 0.0791 - val_accuracy: 0.9771\n",
      "Epoch 16/10000\n",
      "356/356 [==============================] - 7s 19ms/step - loss: 0.0658 - accuracy: 0.9774 - val_loss: 0.0724 - val_accuracy: 0.9771\n",
      "Epoch 17/10000\n",
      "356/356 [==============================] - 6s 17ms/step - loss: 0.0635 - accuracy: 0.9780 - val_loss: 0.0884 - val_accuracy: 0.9731\n",
      "Epoch 18/10000\n",
      "356/356 [==============================] - 5s 15ms/step - loss: 0.0574 - accuracy: 0.9806 - val_loss: 0.0882 - val_accuracy: 0.9710\n",
      "Epoch 19/10000\n",
      "356/356 [==============================] - 6s 16ms/step - loss: 0.0489 - accuracy: 0.9836 - val_loss: 0.0661 - val_accuracy: 0.9802\n",
      "Epoch 20/10000\n",
      "356/356 [==============================] - 8s 22ms/step - loss: 0.0510 - accuracy: 0.9830 - val_loss: 0.0835 - val_accuracy: 0.9726\n",
      "Epoch 21/10000\n",
      "356/356 [==============================] - 5s 15ms/step - loss: 0.0449 - accuracy: 0.9847 - val_loss: 0.0867 - val_accuracy: 0.9739\n",
      "Epoch 22/10000\n",
      "356/356 [==============================] - 5s 15ms/step - loss: 0.0519 - accuracy: 0.9837 - val_loss: 0.0755 - val_accuracy: 0.9742\n",
      "Epoch 23/10000\n",
      "356/356 [==============================] - 6s 16ms/step - loss: 0.0380 - accuracy: 0.9878 - val_loss: 0.0800 - val_accuracy: 0.9789\n",
      "Epoch 24/10000\n",
      "356/356 [==============================] - 6s 16ms/step - loss: 0.0410 - accuracy: 0.9859 - val_loss: 0.0744 - val_accuracy: 0.9784\n",
      "Epoch 25/10000\n",
      "356/356 [==============================] - 6s 16ms/step - loss: 0.0371 - accuracy: 0.9880 - val_loss: 0.0869 - val_accuracy: 0.9760\n",
      "Epoch 26/10000\n",
      "356/356 [==============================] - 6s 17ms/step - loss: 0.0376 - accuracy: 0.9859 - val_loss: 0.0965 - val_accuracy: 0.9713\n",
      "Epoch 27/10000\n",
      "356/356 [==============================] - 8s 21ms/step - loss: 0.0343 - accuracy: 0.9881 - val_loss: 0.0873 - val_accuracy: 0.9739\n",
      "Epoch 28/10000\n",
      "356/356 [==============================] - 5s 15ms/step - loss: 0.0292 - accuracy: 0.9900 - val_loss: 0.0794 - val_accuracy: 0.9789\n",
      "Epoch 29/10000\n",
      "356/356 [==============================] - 5s 15ms/step - loss: 0.0304 - accuracy: 0.9903 - val_loss: 0.0778 - val_accuracy: 0.9773\n",
      "Epoch 30/10000\n",
      "356/356 [==============================] - 5s 15ms/step - loss: 0.0264 - accuracy: 0.9917 - val_loss: 0.0741 - val_accuracy: 0.9802\n",
      "Epoch 31/10000\n",
      "356/356 [==============================] - 5s 15ms/step - loss: 0.0295 - accuracy: 0.9903 - val_loss: 0.0701 - val_accuracy: 0.9818\n",
      "Epoch 32/10000\n",
      "356/356 [==============================] - 6s 16ms/step - loss: 0.0246 - accuracy: 0.9913 - val_loss: 0.0765 - val_accuracy: 0.9816\n",
      "Epoch 33/10000\n",
      "356/356 [==============================] - 6s 16ms/step - loss: 0.0245 - accuracy: 0.9919 - val_loss: 0.0817 - val_accuracy: 0.9781\n",
      "Epoch 34/10000\n",
      "356/356 [==============================] - 8s 24ms/step - loss: 0.0291 - accuracy: 0.9910 - val_loss: 0.0891 - val_accuracy: 0.9773\n",
      "Epoch 35/10000\n",
      "356/356 [==============================] - 8s 24ms/step - loss: 0.0189 - accuracy: 0.9934 - val_loss: 0.1033 - val_accuracy: 0.9744\n",
      "Epoch 36/10000\n",
      "356/356 [==============================] - 8s 21ms/step - loss: 0.0215 - accuracy: 0.9926 - val_loss: 0.0840 - val_accuracy: 0.9779\n",
      "Epoch 37/10000\n",
      "356/356 [==============================] - 6s 18ms/step - loss: 0.0186 - accuracy: 0.9939 - val_loss: 0.0980 - val_accuracy: 0.9787\n",
      "Epoch 38/10000\n",
      "356/356 [==============================] - 6s 17ms/step - loss: 0.0147 - accuracy: 0.9954 - val_loss: 0.1007 - val_accuracy: 0.9750\n",
      "Epoch 39/10000\n",
      "356/356 [==============================] - 7s 19ms/step - loss: 0.0198 - accuracy: 0.9927 - val_loss: 0.0755 - val_accuracy: 0.9821\n",
      "Epoch 40/10000\n",
      "356/356 [==============================] - 7s 20ms/step - loss: 0.0150 - accuracy: 0.9952 - val_loss: 0.0786 - val_accuracy: 0.9831\n",
      "Epoch 41/10000\n",
      "356/356 [==============================] - 7s 18ms/step - loss: 0.0209 - accuracy: 0.9929 - val_loss: 0.0745 - val_accuracy: 0.9805\n",
      "Epoch 41: early stopping\n"
     ]
    }
   ],
   "source": [
    "#Task3\n",
    "#trainEncode=a1Encoder.predict(Input_train_Dataset)\n",
    "'''Dataset used for prediction and evaluation in FCNN-Encoded data'''\n",
    "trainEncode2=Encoder2.predict(Input_train_Dataset)\n",
    "valEncode2=Encoder2.predict(Input_val_Dataset)\n",
    "testEncode2=Encoder2.predict(Input_test_Dataset)\n",
    "\n",
    "#Fcnn\n",
    "model2 = keras.Sequential([\n",
    "        #Flatten(input_shape=(28, 28), name='InputLayer'),\n",
    "        Dense(1024, activation=\"sigmoid\", name=\"Hlayer1\",kernel_initializer=initializer, bias_initializer=initializers.Zeros()),\n",
    "        Dense(512, activation=\"sigmoid\", name=\"Hlayer2\",kernel_initializer=initializer, bias_initializer=initializers.Zeros()),\n",
    "        Dense(256, activation=\"sigmoid\", name=\"Hlayer3\",kernel_initializer=initializer, bias_initializer=initializers.Zeros()),\n",
    "        Dense(5, activation=\"softmax\", name=\"output\"),\n",
    "        ])\n",
    "#model.summary()\n",
    "\n",
    "adam =Adam(learning_rate=0.001,beta_1=0.9,beta_2=0.999,epsilon=1e-8,name='Adam')\n",
    "\n",
    "\n",
    "model2.compile(optimizer=adam, loss='sparse_categorical_crossentropy', metrics=['accuracy'])\n",
    "\n",
    "es = EarlyStopping(monitor='loss',min_delta=0.0001, patience=3,verbose=1)\n",
    "\n",
    "model_fit2 = model2.fit(x = trainEncode2, y = Output_train, batch_size = 32, epochs = 10000, verbose = \"auto\", callbacks=[es], validation_data=(valEncode2,  Output_val), validation_batch_size=1)\n",
    "\n",
    "model2.save('/Users/vds/Downloads/modelAssign4/ae128.h5')\n",
    "f=open('/Users/vds/Downloads/modelAssign4/Histae128.pckl','wb')\n",
    "p.dump(model_fit2.history,f)\n",
    "f.close()"
   ]
  },
  {
   "cell_type": "code",
   "execution_count": 81,
   "id": "90a071ad",
   "metadata": {},
   "outputs": [
    {
     "name": "stdout",
     "output_type": "stream",
     "text": [
      "\n",
      "Evaluation of model on train data:\n",
      "11385/11385 [==============================] - 15s 1ms/step - loss: 0.0092 - accuracy: 0.9969\n",
      "['loss', 'accuracy']\n",
      "[0.009199501015245914, 0.9969257712364197]\n",
      "\n",
      "Evaluation of model on validation data:\n",
      "3795/3795 [==============================] - 4s 1ms/step - loss: 0.0745 - accuracy: 0.9805\n",
      "['loss', 'accuracy']\n",
      "[0.07453024387359619, 0.9805006384849548]\n",
      "\n",
      "Evaluation of model on test data:\n",
      "3795/3795 [==============================] - 5s 1ms/step - loss: 0.0793 - accuracy: 0.9805\n",
      "['loss', 'accuracy']\n",
      "[0.07926156371831894, 0.9805006384849548]\n",
      "\n",
      "Predictions for test data:\n",
      "3795/3795 [==============================] - 3s 817us/step\n",
      "[4 4 4 ... 1 1 1]\n"
     ]
    }
   ],
   "source": [
    "#FCNN Error\n",
    "print('\\nEvaluation of model on train data:')\n",
    "trainAcc2=model2.evaluate(x=trainEncode2,y=Output_train,batch_size=1, verbose=\"auto\",callbacks=None)\n",
    "print(model2.metrics_names)\n",
    "print(trainAcc2)\n",
    "\n",
    "print('\\nEvaluation of model on validation data:')\n",
    "valAcc2=model2.evaluate(x=valEncode2, y=Output_val, batch_size=1, verbose=\"auto\",callbacks=None)\n",
    "print(model2.metrics_names)\n",
    "print(valAcc2)\n",
    "\n",
    "print('\\nEvaluation of model on test data:')\n",
    "testAcc2=model2.evaluate(x=testEncode2, y=Output_test, batch_size=1, verbose=\"auto\",callbacks=None)\n",
    "print(model2.metrics_names)\n",
    "print(testAcc2)\n",
    "\n",
    "print('\\nPredictions for test data:')\n",
    "testProb2=model2.predict(testEncode2, batch_size=1, verbose=\"auto\", callbacks=None)\n",
    "pred2=np.argmax(testProb2,axis=1)\n",
    "print(pred2)"
   ]
  },
  {
   "cell_type": "code",
   "execution_count": 82,
   "id": "67f76204",
   "metadata": {},
   "outputs": [
    {
     "name": "stdout",
     "output_type": "stream",
     "text": [
      "tf.Tensor(\n",
      "[[753   1   4   0   1]\n",
      " [  1 753   1   3   1]\n",
      " [  7   4 747   0   1]\n",
      " [  2   4   1 738  14]\n",
      " [  8   6   0  15 730]], shape=(5, 5), dtype=int32)\n"
     ]
    }
   ],
   "source": [
    "#3-3\n",
    "#confusionMatrix=confusion_matrix(Output_test, pred)\n",
    "confusionMatrix2=tf.math.confusion_matrix(Output_test,pred2)\n",
    "#confusionMatrix=tf.math.confusion_matrix(Output_test, pred5)\n",
    "print(confusionMatrix2)"
   ]
  },
  {
   "cell_type": "code",
   "execution_count": null,
   "id": "9ea0a929",
   "metadata": {},
   "outputs": [],
   "source": []
  },
  {
   "cell_type": "code",
   "execution_count": null,
   "id": "4a794442",
   "metadata": {},
   "outputs": [],
   "source": []
  },
  {
   "cell_type": "code",
   "execution_count": null,
   "id": "77e2e702",
   "metadata": {},
   "outputs": [],
   "source": []
  },
  {
   "cell_type": "code",
   "execution_count": 83,
   "id": "d3b0a9fe",
   "metadata": {},
   "outputs": [],
   "source": [
    "initializer = tf.keras.initializers.RandomNormal(mean=0.0, stddev=0.05, seed=100)"
   ]
  },
  {
   "cell_type": "code",
   "execution_count": 84,
   "id": "da5ceae4",
   "metadata": {},
   "outputs": [],
   "source": [
    "#print('Initializer: ',initializer)\n",
    "\n",
    "def Upload_Dataset(Dataset_Path):\n",
    "    \n",
    "    Path_train_Dataset = Dataset_Path+\"/train\"\n",
    "    Path_test_Dataset = Dataset_Path+\"/test\"\n",
    "    Path_val_Dataset = Dataset_Path+\"/val\"\n",
    "    \n",
    "    Input_train_Dataset, Input_test_Dataset, Input_val_Dataset = [], [], []\n",
    "    Output_train, Output_test, Output_val = [], [], []\n",
    "\n",
    "    for j in os.listdir(Path_train_Dataset):\n",
    "\n",
    "        if j != \".DS_Store\":\n",
    "            for k in os.listdir(Path_train_Dataset+\"/\"+j):\n",
    "                Input_train_Dataset.append(cv2.imread(Path_train_Dataset+\"/\"+j+\"/\"+k, cv2.IMREAD_GRAYSCALE))\n",
    "                if(j == '6'):\n",
    "                    Output_train.append(int(2))\n",
    "                elif(j == '7'):\n",
    "                    Output_train.append(int(3))\n",
    "                elif(j == '9'):\n",
    "                    Output_train.append(int(4))\n",
    "                else:\n",
    "                    Output_train.append(int(j))\n",
    "\n",
    "            for k in os.listdir(Path_test_Dataset+\"/\"+j):\n",
    "                Input_test_Dataset.append(cv2.imread(Path_test_Dataset+\"/\"+j+\"/\"+k, cv2.IMREAD_GRAYSCALE))\n",
    "                if(j=='6'):\n",
    "                    Output_test.append(int(2))\n",
    "                elif(j=='7'):\n",
    "                    Output_test.append(int(3))\n",
    "                elif(j=='9'):\n",
    "                    Output_test.append(int(4))\n",
    "                else:\n",
    "                    Output_test.append(int(j))\n",
    "\n",
    "            for k in os.listdir(Path_val_Dataset+\"/\"+j):\n",
    "                Input_val_Dataset.append(cv2.imread(Path_val_Dataset+\"/\"+j+\"/\"+k, cv2.IMREAD_GRAYSCALE))\n",
    "                if(j=='6'):\n",
    "                    Output_val.append(int(2))\n",
    "                elif(j=='7'):\n",
    "                    Output_val.append(int(3))\n",
    "                elif(j=='9'):\n",
    "                    Output_val.append(int(4))\n",
    "                else:\n",
    "                    Output_val.append(int(j))\n",
    "        \n",
    "    #print(Output_train)            \n",
    "    Input_train_Dataset, Input_test_Dataset, Input_val_Dataset = np.array(Input_train_Dataset), np.array(Input_test_Dataset), np.array(Input_val_Dataset)\n",
    "    #Output_train, Output_test, Output_val = np.array(list(map(int, Output_train))), np.array(list(map(int, Output_test))), np.array(list(map(int, Output_val)))\n",
    "    Output_train, Output_test, Output_val = np.array(Output_train), np.array(Output_test), np.array(Output_val)\n",
    "    #print(Output_train) \n",
    "    return Input_train_Dataset, Input_test_Dataset,Input_val_Dataset, Output_train, Output_test, Output_val\n",
    "\n",
    "\n",
    "\n",
    "#providing path of  MNIST dataset\n",
    "Dataset_Path = \"/Users/vds/Downloads/Group_1\""
   ]
  },
  {
   "cell_type": "code",
   "execution_count": 85,
   "id": "1cec9a7f",
   "metadata": {},
   "outputs": [],
   "source": [
    "#calling Upload_Dataset function\n",
    "Input_train_Dataset, Input_test_Dataset,Input_val_Dataset, Output_train, Output_test, Output_val= Upload_Dataset(Dataset_Path)\n",
    "\n",
    "\n",
    "\n",
    "Input_train_Dataset=Input_train_Dataset/255\n",
    "Input_test_Dataset=Input_test_Dataset/255\n",
    "Input_val_Dataset=Input_val_Dataset/255\n",
    "#bottleneck dimension\n",
    "encodingDim3=64"
   ]
  },
  {
   "cell_type": "code",
   "execution_count": 86,
   "id": "ec9b6506",
   "metadata": {},
   "outputs": [
    {
     "name": "stdout",
     "output_type": "stream",
     "text": [
      "Model: \"AutoencoderA1\"\n",
      "_________________________________________________________________\n",
      " Layer (type)                Output Shape              Param #   \n",
      "=================================================================\n",
      " img (InputLayer)            [(None, 28, 28)]          0         \n",
      "                                                                 \n",
      " InputLayer (Flatten)        (None, 784)               0         \n",
      "                                                                 \n",
      " dense_18 (Dense)            (None, 64)                50240     \n",
      "                                                                 \n",
      " dense_19 (Dense)            (None, 784)               50960     \n",
      "                                                                 \n",
      " reshape_9 (Reshape)         (None, 28, 28)            0         \n",
      "                                                                 \n",
      "=================================================================\n",
      "Total params: 101,200\n",
      "Trainable params: 101,200\n",
      "Non-trainable params: 0\n",
      "_________________________________________________________________\n",
      "Epoch 1/1000\n",
      "356/356 [==============================] - 2s 3ms/step - loss: 0.0713 - accuracy: 0.0986 - val_loss: 0.0599 - val_accuracy: 0.1069\n",
      "Epoch 2/1000\n",
      "356/356 [==============================] - 1s 3ms/step - loss: 0.0540 - accuracy: 0.1362 - val_loss: 0.0491 - val_accuracy: 0.1573\n",
      "Epoch 3/1000\n",
      "356/356 [==============================] - 1s 2ms/step - loss: 0.0444 - accuracy: 0.1752 - val_loss: 0.0405 - val_accuracy: 0.1925\n",
      "Epoch 4/1000\n",
      "356/356 [==============================] - 1s 2ms/step - loss: 0.0374 - accuracy: 0.2158 - val_loss: 0.0349 - val_accuracy: 0.2341\n",
      "Epoch 5/1000\n",
      "356/356 [==============================] - 1s 3ms/step - loss: 0.0328 - accuracy: 0.2414 - val_loss: 0.0312 - val_accuracy: 0.2510\n",
      "Epoch 6/1000\n",
      "356/356 [==============================] - 1s 3ms/step - loss: 0.0296 - accuracy: 0.2554 - val_loss: 0.0284 - val_accuracy: 0.2596\n",
      "Epoch 7/1000\n",
      "356/356 [==============================] - 1s 3ms/step - loss: 0.0270 - accuracy: 0.2671 - val_loss: 0.0260 - val_accuracy: 0.2718\n",
      "Epoch 8/1000\n",
      "356/356 [==============================] - 1s 3ms/step - loss: 0.0249 - accuracy: 0.2769 - val_loss: 0.0241 - val_accuracy: 0.2794\n",
      "Epoch 9/1000\n",
      "356/356 [==============================] - 1s 3ms/step - loss: 0.0231 - accuracy: 0.2843 - val_loss: 0.0225 - val_accuracy: 0.2855\n",
      "Epoch 10/1000\n",
      "356/356 [==============================] - 1s 2ms/step - loss: 0.0216 - accuracy: 0.2911 - val_loss: 0.0211 - val_accuracy: 0.2904\n",
      "Epoch 11/1000\n",
      "356/356 [==============================] - 1s 3ms/step - loss: 0.0202 - accuracy: 0.2957 - val_loss: 0.0198 - val_accuracy: 0.2974\n",
      "Epoch 12/1000\n",
      "356/356 [==============================] - 1s 3ms/step - loss: 0.0191 - accuracy: 0.3004 - val_loss: 0.0188 - val_accuracy: 0.3012\n",
      "Epoch 13/1000\n",
      "356/356 [==============================] - 1s 3ms/step - loss: 0.0180 - accuracy: 0.3039 - val_loss: 0.0178 - val_accuracy: 0.3045\n",
      "Epoch 14/1000\n",
      "356/356 [==============================] - 1s 3ms/step - loss: 0.0171 - accuracy: 0.3069 - val_loss: 0.0169 - val_accuracy: 0.3075\n",
      "Epoch 15/1000\n",
      "356/356 [==============================] - 1s 3ms/step - loss: 0.0163 - accuracy: 0.3101 - val_loss: 0.0162 - val_accuracy: 0.3097\n",
      "Epoch 16/1000\n",
      "356/356 [==============================] - 1s 3ms/step - loss: 0.0156 - accuracy: 0.3130 - val_loss: 0.0155 - val_accuracy: 0.3123\n",
      "Epoch 17/1000\n",
      "356/356 [==============================] - 1s 3ms/step - loss: 0.0149 - accuracy: 0.3151 - val_loss: 0.0149 - val_accuracy: 0.3131\n",
      "Epoch 18/1000\n",
      "356/356 [==============================] - 1s 3ms/step - loss: 0.0144 - accuracy: 0.3174 - val_loss: 0.0143 - val_accuracy: 0.3155\n",
      "Epoch 19/1000\n",
      "356/356 [==============================] - 1s 3ms/step - loss: 0.0138 - accuracy: 0.3194 - val_loss: 0.0138 - val_accuracy: 0.3163\n",
      "Epoch 20/1000\n",
      "356/356 [==============================] - 1s 2ms/step - loss: 0.0134 - accuracy: 0.3212 - val_loss: 0.0134 - val_accuracy: 0.3179\n",
      "Epoch 21/1000\n",
      "356/356 [==============================] - 1s 2ms/step - loss: 0.0129 - accuracy: 0.3228 - val_loss: 0.0129 - val_accuracy: 0.3189\n",
      "Epoch 22/1000\n",
      "356/356 [==============================] - 1s 2ms/step - loss: 0.0125 - accuracy: 0.3251 - val_loss: 0.0126 - val_accuracy: 0.3207\n",
      "Epoch 23/1000\n",
      "356/356 [==============================] - 1s 2ms/step - loss: 0.0122 - accuracy: 0.3259 - val_loss: 0.0123 - val_accuracy: 0.3247\n",
      "Epoch 24/1000\n",
      "356/356 [==============================] - 1s 2ms/step - loss: 0.0119 - accuracy: 0.3273 - val_loss: 0.0120 - val_accuracy: 0.3223\n",
      "Epoch 25/1000\n",
      "356/356 [==============================] - 1s 3ms/step - loss: 0.0116 - accuracy: 0.3279 - val_loss: 0.0117 - val_accuracy: 0.3256\n",
      "Epoch 26/1000\n",
      "356/356 [==============================] - 1s 3ms/step - loss: 0.0113 - accuracy: 0.3292 - val_loss: 0.0115 - val_accuracy: 0.3265\n",
      "Epoch 27/1000\n",
      "356/356 [==============================] - 1s 3ms/step - loss: 0.0111 - accuracy: 0.3299 - val_loss: 0.0113 - val_accuracy: 0.3273\n",
      "Epoch 28/1000\n",
      "356/356 [==============================] - 1s 2ms/step - loss: 0.0109 - accuracy: 0.3304 - val_loss: 0.0111 - val_accuracy: 0.3274\n",
      "Epoch 29/1000\n",
      "356/356 [==============================] - 1s 2ms/step - loss: 0.0107 - accuracy: 0.3307 - val_loss: 0.0109 - val_accuracy: 0.3280\n",
      "Epoch 30/1000\n",
      "356/356 [==============================] - 1s 2ms/step - loss: 0.0105 - accuracy: 0.3316 - val_loss: 0.0107 - val_accuracy: 0.3294\n",
      "Epoch 31/1000\n",
      "356/356 [==============================] - 1s 2ms/step - loss: 0.0104 - accuracy: 0.3323 - val_loss: 0.0106 - val_accuracy: 0.3285\n",
      "Epoch 32/1000\n",
      "356/356 [==============================] - 1s 2ms/step - loss: 0.0102 - accuracy: 0.3324 - val_loss: 0.0105 - val_accuracy: 0.3272\n",
      "Epoch 33/1000\n",
      "356/356 [==============================] - 1s 2ms/step - loss: 0.0101 - accuracy: 0.3332 - val_loss: 0.0103 - val_accuracy: 0.3302\n",
      "Epoch 34/1000\n",
      "356/356 [==============================] - 1s 2ms/step - loss: 0.0099 - accuracy: 0.3332 - val_loss: 0.0102 - val_accuracy: 0.3304\n",
      "Epoch 35/1000\n",
      "356/356 [==============================] - 1s 2ms/step - loss: 0.0098 - accuracy: 0.3336 - val_loss: 0.0101 - val_accuracy: 0.3307\n",
      "Epoch 36/1000\n",
      "356/356 [==============================] - 1s 2ms/step - loss: 0.0097 - accuracy: 0.3344 - val_loss: 0.0100 - val_accuracy: 0.3316\n",
      "Epoch 37/1000\n",
      "356/356 [==============================] - 1s 4ms/step - loss: 0.0096 - accuracy: 0.3349 - val_loss: 0.0098 - val_accuracy: 0.3311\n",
      "Epoch 38/1000\n",
      "356/356 [==============================] - 1s 2ms/step - loss: 0.0094 - accuracy: 0.3353 - val_loss: 0.0097 - val_accuracy: 0.3320\n",
      "Epoch 39/1000\n",
      "356/356 [==============================] - 1s 3ms/step - loss: 0.0093 - accuracy: 0.3356 - val_loss: 0.0096 - val_accuracy: 0.3334\n",
      "Epoch 40/1000\n",
      "356/356 [==============================] - 1s 3ms/step - loss: 0.0092 - accuracy: 0.3365 - val_loss: 0.0095 - val_accuracy: 0.3332\n",
      "Epoch 41/1000\n",
      "356/356 [==============================] - 1s 2ms/step - loss: 0.0091 - accuracy: 0.3365 - val_loss: 0.0094 - val_accuracy: 0.3351\n",
      "Epoch 42/1000\n",
      "356/356 [==============================] - 1s 2ms/step - loss: 0.0090 - accuracy: 0.3371 - val_loss: 0.0093 - val_accuracy: 0.3335\n",
      "Epoch 43/1000\n",
      "356/356 [==============================] - 1s 2ms/step - loss: 0.0089 - accuracy: 0.3374 - val_loss: 0.0092 - val_accuracy: 0.3351\n",
      "Epoch 44/1000\n",
      "356/356 [==============================] - 1s 2ms/step - loss: 0.0088 - accuracy: 0.3380 - val_loss: 0.0091 - val_accuracy: 0.3354\n",
      "Epoch 45/1000\n",
      "356/356 [==============================] - 1s 2ms/step - loss: 0.0087 - accuracy: 0.3382 - val_loss: 0.0090 - val_accuracy: 0.3347\n",
      "Epoch 46/1000\n",
      "356/356 [==============================] - 1s 2ms/step - loss: 0.0086 - accuracy: 0.3387 - val_loss: 0.0089 - val_accuracy: 0.3369\n",
      "Epoch 47/1000\n",
      "356/356 [==============================] - 1s 2ms/step - loss: 0.0085 - accuracy: 0.3397 - val_loss: 0.0088 - val_accuracy: 0.3360\n",
      "Epoch 48/1000\n",
      "356/356 [==============================] - 1s 2ms/step - loss: 0.0084 - accuracy: 0.3400 - val_loss: 0.0086 - val_accuracy: 0.3363\n",
      "Epoch 49/1000\n",
      "356/356 [==============================] - 1s 2ms/step - loss: 0.0082 - accuracy: 0.3408 - val_loss: 0.0085 - val_accuracy: 0.3381\n",
      "Epoch 50/1000\n"
     ]
    },
    {
     "name": "stdout",
     "output_type": "stream",
     "text": [
      "356/356 [==============================] - 1s 2ms/step - loss: 0.0081 - accuracy: 0.3407 - val_loss: 0.0085 - val_accuracy: 0.3380\n",
      "Epoch 51/1000\n",
      "356/356 [==============================] - 1s 3ms/step - loss: 0.0080 - accuracy: 0.3416 - val_loss: 0.0083 - val_accuracy: 0.3399\n",
      "Epoch 52/1000\n",
      "356/356 [==============================] - 1s 4ms/step - loss: 0.0079 - accuracy: 0.3421 - val_loss: 0.0082 - val_accuracy: 0.3386\n",
      "Epoch 53/1000\n",
      "356/356 [==============================] - 1s 3ms/step - loss: 0.0078 - accuracy: 0.3425 - val_loss: 0.0081 - val_accuracy: 0.3400\n",
      "Epoch 54/1000\n",
      "356/356 [==============================] - 2s 4ms/step - loss: 0.0077 - accuracy: 0.3429 - val_loss: 0.0080 - val_accuracy: 0.3398\n",
      "Epoch 55/1000\n",
      "356/356 [==============================] - 2s 6ms/step - loss: 0.0075 - accuracy: 0.3432 - val_loss: 0.0078 - val_accuracy: 0.3428\n",
      "Epoch 56/1000\n",
      "356/356 [==============================] - 1s 4ms/step - loss: 0.0074 - accuracy: 0.3441 - val_loss: 0.0077 - val_accuracy: 0.3424\n",
      "Epoch 57/1000\n",
      "356/356 [==============================] - 1s 3ms/step - loss: 0.0073 - accuracy: 0.3448 - val_loss: 0.0076 - val_accuracy: 0.3430\n",
      "Epoch 58/1000\n",
      "356/356 [==============================] - 1s 3ms/step - loss: 0.0071 - accuracy: 0.3458 - val_loss: 0.0074 - val_accuracy: 0.3445\n",
      "Epoch 59/1000\n",
      "356/356 [==============================] - 1s 3ms/step - loss: 0.0070 - accuracy: 0.3463 - val_loss: 0.0073 - val_accuracy: 0.3436\n",
      "Epoch 60/1000\n",
      "356/356 [==============================] - 1s 3ms/step - loss: 0.0069 - accuracy: 0.3471 - val_loss: 0.0072 - val_accuracy: 0.3435\n",
      "Epoch 61/1000\n",
      "356/356 [==============================] - 1s 2ms/step - loss: 0.0068 - accuracy: 0.3475 - val_loss: 0.0071 - val_accuracy: 0.3439\n",
      "Epoch 62/1000\n",
      "356/356 [==============================] - 1s 2ms/step - loss: 0.0066 - accuracy: 0.3484 - val_loss: 0.0070 - val_accuracy: 0.3452\n",
      "Epoch 63/1000\n",
      "356/356 [==============================] - 1s 3ms/step - loss: 0.0065 - accuracy: 0.3486 - val_loss: 0.0068 - val_accuracy: 0.3452\n",
      "Epoch 64/1000\n",
      "356/356 [==============================] - 1s 4ms/step - loss: 0.0064 - accuracy: 0.3489 - val_loss: 0.0067 - val_accuracy: 0.3470\n",
      "Epoch 65/1000\n",
      "356/356 [==============================] - 1s 2ms/step - loss: 0.0063 - accuracy: 0.3504 - val_loss: 0.0066 - val_accuracy: 0.3470\n",
      "Epoch 66/1000\n",
      "356/356 [==============================] - 1s 2ms/step - loss: 0.0061 - accuracy: 0.3506 - val_loss: 0.0065 - val_accuracy: 0.3475\n",
      "Epoch 67/1000\n",
      "356/356 [==============================] - 1s 3ms/step - loss: 0.0060 - accuracy: 0.3514 - val_loss: 0.0064 - val_accuracy: 0.3475\n",
      "Epoch 68/1000\n",
      "356/356 [==============================] - 1s 2ms/step - loss: 0.0059 - accuracy: 0.3518 - val_loss: 0.0063 - val_accuracy: 0.3505\n",
      "Epoch 69/1000\n",
      "356/356 [==============================] - 1s 2ms/step - loss: 0.0058 - accuracy: 0.3521 - val_loss: 0.0061 - val_accuracy: 0.3492\n",
      "Epoch 70/1000\n",
      "356/356 [==============================] - 1s 2ms/step - loss: 0.0057 - accuracy: 0.3529 - val_loss: 0.0061 - val_accuracy: 0.3494\n",
      "Epoch 71/1000\n",
      "356/356 [==============================] - 1s 3ms/step - loss: 0.0056 - accuracy: 0.3536 - val_loss: 0.0059 - val_accuracy: 0.3511\n",
      "Epoch 72/1000\n",
      "356/356 [==============================] - 1s 3ms/step - loss: 0.0055 - accuracy: 0.3540 - val_loss: 0.0059 - val_accuracy: 0.3512\n",
      "Epoch 73/1000\n",
      "356/356 [==============================] - 1s 3ms/step - loss: 0.0054 - accuracy: 0.3544 - val_loss: 0.0058 - val_accuracy: 0.3519\n",
      "Epoch 74/1000\n",
      "356/356 [==============================] - 1s 3ms/step - loss: 0.0053 - accuracy: 0.3543 - val_loss: 0.0057 - val_accuracy: 0.3528\n",
      "Epoch 75/1000\n",
      "356/356 [==============================] - 1s 3ms/step - loss: 0.0052 - accuracy: 0.3553 - val_loss: 0.0056 - val_accuracy: 0.3538\n",
      "Epoch 76/1000\n",
      "356/356 [==============================] - 1s 3ms/step - loss: 0.0051 - accuracy: 0.3556 - val_loss: 0.0055 - val_accuracy: 0.3525\n",
      "Epoch 77/1000\n",
      "356/356 [==============================] - 1s 2ms/step - loss: 0.0051 - accuracy: 0.3556 - val_loss: 0.0054 - val_accuracy: 0.3540\n",
      "Epoch 78/1000\n",
      "356/356 [==============================] - 1s 2ms/step - loss: 0.0050 - accuracy: 0.3562 - val_loss: 0.0053 - val_accuracy: 0.3540\n",
      "Epoch 79/1000\n",
      "356/356 [==============================] - 1s 2ms/step - loss: 0.0049 - accuracy: 0.3563 - val_loss: 0.0053 - val_accuracy: 0.3537\n",
      "Epoch 80/1000\n",
      "356/356 [==============================] - 1s 2ms/step - loss: 0.0048 - accuracy: 0.3568 - val_loss: 0.0052 - val_accuracy: 0.3546\n",
      "Epoch 81/1000\n",
      "356/356 [==============================] - 1s 2ms/step - loss: 0.0048 - accuracy: 0.3569 - val_loss: 0.0051 - val_accuracy: 0.3531\n",
      "Epoch 82/1000\n",
      "356/356 [==============================] - 1s 2ms/step - loss: 0.0047 - accuracy: 0.3573 - val_loss: 0.0051 - val_accuracy: 0.3554\n",
      "Epoch 83/1000\n",
      "356/356 [==============================] - 1s 2ms/step - loss: 0.0046 - accuracy: 0.3578 - val_loss: 0.0050 - val_accuracy: 0.3549\n",
      "Epoch 84/1000\n",
      "356/356 [==============================] - 1s 2ms/step - loss: 0.0046 - accuracy: 0.3581 - val_loss: 0.0049 - val_accuracy: 0.3542\n",
      "Epoch 85/1000\n",
      "356/356 [==============================] - 1s 2ms/step - loss: 0.0045 - accuracy: 0.3580 - val_loss: 0.0049 - val_accuracy: 0.3563\n",
      "Epoch 86/1000\n",
      "356/356 [==============================] - 1s 2ms/step - loss: 0.0045 - accuracy: 0.3587 - val_loss: 0.0048 - val_accuracy: 0.3561\n",
      "Epoch 87/1000\n",
      "356/356 [==============================] - 1s 2ms/step - loss: 0.0044 - accuracy: 0.3587 - val_loss: 0.0048 - val_accuracy: 0.3569\n",
      "Epoch 88/1000\n",
      "356/356 [==============================] - 1s 2ms/step - loss: 0.0043 - accuracy: 0.3594 - val_loss: 0.0047 - val_accuracy: 0.3575\n",
      "Epoch 89/1000\n",
      "356/356 [==============================] - 1s 2ms/step - loss: 0.0043 - accuracy: 0.3596 - val_loss: 0.0047 - val_accuracy: 0.3566\n",
      "Epoch 90/1000\n",
      "356/356 [==============================] - 1s 2ms/step - loss: 0.0042 - accuracy: 0.3602 - val_loss: 0.0046 - val_accuracy: 0.3563\n",
      "Epoch 91/1000\n",
      "356/356 [==============================] - 1s 2ms/step - loss: 0.0042 - accuracy: 0.3609 - val_loss: 0.0046 - val_accuracy: 0.3578\n",
      "Epoch 92/1000\n",
      "356/356 [==============================] - 1s 2ms/step - loss: 0.0041 - accuracy: 0.3610 - val_loss: 0.0045 - val_accuracy: 0.3581\n",
      "Epoch 93/1000\n",
      "356/356 [==============================] - 1s 2ms/step - loss: 0.0041 - accuracy: 0.3609 - val_loss: 0.0045 - val_accuracy: 0.3591\n",
      "Epoch 94/1000\n",
      "356/356 [==============================] - 1s 2ms/step - loss: 0.0040 - accuracy: 0.3612 - val_loss: 0.0044 - val_accuracy: 0.3577\n",
      "Epoch 95/1000\n",
      "356/356 [==============================] - 1s 2ms/step - loss: 0.0040 - accuracy: 0.3612 - val_loss: 0.0044 - val_accuracy: 0.3578\n",
      "Epoch 96/1000\n",
      "356/356 [==============================] - 1s 2ms/step - loss: 0.0040 - accuracy: 0.3615 - val_loss: 0.0043 - val_accuracy: 0.3602\n",
      "Epoch 97/1000\n",
      "356/356 [==============================] - 1s 2ms/step - loss: 0.0039 - accuracy: 0.3611 - val_loss: 0.0043 - val_accuracy: 0.3587\n",
      "Epoch 98/1000\n",
      "356/356 [==============================] - 1s 2ms/step - loss: 0.0039 - accuracy: 0.3623 - val_loss: 0.0043 - val_accuracy: 0.3580\n",
      "Epoch 99/1000\n",
      "356/356 [==============================] - 1s 2ms/step - loss: 0.0039 - accuracy: 0.3619 - val_loss: 0.0043 - val_accuracy: 0.3579\n",
      "Epoch 99: early stopping\n"
     ]
    }
   ],
   "source": [
    "#Autoencoder Arch-1\n",
    "xInp3=Input(shape=(28,28),name=\"img\")\n",
    "inp3=Flatten(input_shape=(28, 28), name='InputLayer')(xInp3)\n",
    "\n",
    "encodedOut3=Dense(encodingDim3,activation='sigmoid')(inp3)\n",
    "\n",
    "Encoder3=Model(xInp3,encodedOut3,name='encoder')\n",
    "\n",
    "\n",
    "decodedOut3=Dense(784,activation='sigmoid')(encodedOut3)\n",
    "out3=Reshape((28,28))(decodedOut3)\n",
    "optimizer3=Adam(learning_rate=0.001,beta_1=0.9,beta_2=0.999,epsilon=1e-6,name='Adam')\n",
    "\n",
    "Autoencoder3=Model(xInp3,out3,name='AutoencoderA1')\n",
    "Autoencoder3.summary()\n",
    "\n",
    "es = EarlyStopping(monitor='loss',min_delta=0.0001, patience=3,verbose=1)\n",
    "\n",
    "Autoencoder3.compile(optimizer3, loss='mse',metrics=['accuracy'])\n",
    "ae3history=Autoencoder3.fit(x = Input_train_Dataset, y = Input_train_Dataset, batch_size = 32, epochs = 1000, verbose = \"auto\", callbacks=[es], validation_data=(Input_val_Dataset,  Input_val_Dataset))\n",
    "#, validation_batch_size=1"
   ]
  },
  {
   "cell_type": "code",
   "execution_count": 87,
   "id": "029c3989",
   "metadata": {},
   "outputs": [
    {
     "name": "stdout",
     "output_type": "stream",
     "text": [
      "\n",
      "Average reconstruction Loss :\n",
      "11385/11385 [==============================] - 10s 895us/step - loss: 0.0038 - accuracy: 0.3617\n",
      "Train Data: 0.0038103063125163317\n",
      "3795/3795 [==============================] - 3s 765us/step - loss: 0.0043 - accuracy: 0.3579\n",
      "Validation Data: 0.004270033910870552\n",
      "3795/3795 [==============================] - 3s 757us/step - loss: 0.0044 - accuracy: 0.3575\n",
      "Test Data: 0.004420614335685968\n"
     ]
    }
   ],
   "source": [
    "#Reconstruction Error-2c\n",
    "print('\\nAverage reconstruction Loss :')\n",
    "trainErr3=Autoencoder3.evaluate(x=Input_train_Dataset,y=Input_train_Dataset,batch_size=1, verbose=\"auto\",callbacks=None)\n",
    "print('Train Data:',trainErr3[0])\n",
    "\n",
    "#print('\\nEvaluation of model on validation data:')\n",
    "valErr3=Autoencoder3.evaluate(x=Input_val_Dataset, y=Input_val_Dataset, batch_size=1, verbose=\"auto\",callbacks=None)\n",
    "print('Validation Data:',valErr3[0])\n",
    "\n",
    "#print('\\nEvaluation of model on test data: Average Reconstruction Error')\n",
    "testErr3=Autoencoder3.evaluate(x=Input_test_Dataset, y=Input_test_Dataset, batch_size=1, verbose=\"auto\",callbacks=None)\n",
    "print('Test Data:',testErr3[0])"
   ]
  },
  {
   "cell_type": "code",
   "execution_count": 88,
   "id": "23097828",
   "metadata": {},
   "outputs": [
    {
     "name": "stdout",
     "output_type": "stream",
     "text": [
      "356/356 [==============================] - 0s 982us/step\n"
     ]
    },
    {
     "data": {
      "text/plain": [
       "[<matplotlib.lines.Line2D at 0x187dfe910>]"
      ]
     },
     "execution_count": 88,
     "metadata": {},
     "output_type": "execute_result"
    },
    {
     "data": {
      "image/png": "[encoded data removed]",
      "text/plain": [
       "<Figure size 640x480 with 1 Axes>"
      ]
     },
     "metadata": {},
     "output_type": "display_data"
    }
   ],
   "source": [
    "'''visualization-Task2-d'''\n",
    "trainReconstruct3=Autoencoder3.predict(Input_train_Dataset)\n",
    "plt.plot(ae3history.history['loss'])"
   ]
  },
  {
   "cell_type": "code",
   "execution_count": 89,
   "id": "4762ddae",
   "metadata": {},
   "outputs": [
    {
     "data": {
      "image/png": "[encoded data removed]",
      "text/plain": [
       "<Figure size 2000x400 with 10 Axes>"
      ]
     },
     "metadata": {},
     "output_type": "display_data"
    }
   ],
   "source": [
    "n=5\n",
    "plt.figure(figsize=(20,4))\n",
    "for i in range(n):\n",
    "    #displaying original image\n",
    "    #clss=n\n",
    "    idx=np.where(Output_train==i)[0][0]\n",
    "    ax=plt.subplot(2,n,i+1)\n",
    "    plt.imshow(Input_train_Dataset[idx].reshape(28,28),cmap='gray')\n",
    "    ax.get_xaxis().set_visible(False)\n",
    "    ax.get_yaxis().set_visible(False)\n",
    "\n",
    "    #displaying reconstructed image\n",
    "    ax=plt.subplot(2,n,i+1+n)\n",
    "    plt.imshow(trainReconstruct3[idx].reshape(28,28),cmap='gray')\n",
    "    #plt.imshow(trainEncode[i].reshape(8,8),cmap='gray')\n",
    "    ax.get_xaxis().set_visible(False)\n",
    "    ax.get_yaxis().set_visible(False)\n",
    "\n",
    "plt.show()"
   ]
  },
  {
   "cell_type": "code",
   "execution_count": null,
   "id": "44a99806",
   "metadata": {},
   "outputs": [],
   "source": []
  },
  {
   "cell_type": "code",
   "execution_count": 112,
   "id": "d1b3cda6",
   "metadata": {},
   "outputs": [
    {
     "data": {
      "image/png": "[encoded data removed]",
      "text/plain": [
       "<Figure size 2000x400 with 10 Axes>"
      ]
     },
     "metadata": {},
     "output_type": "display_data"
    }
   ],
   "source": [
    "n=5\n",
    "plt.figure(figsize=(20,4))\n",
    "for i in range(n):\n",
    "    #displaying original image\n",
    "    #clss=n\n",
    "    idx=np.where(Output_train==i)[0][0]\n",
    "    ax=plt.subplot(2,n,i+1)\n",
    "    plt.imshow(Input_train_Dataset[idx].reshape(28,28),cmap='gray')\n",
    "    ax.get_xaxis().set_visible(False)\n",
    "    ax.get_yaxis().set_visible(False)\n",
    "\n",
    "    #displaying reconstructed image\n",
    "    ax=plt.subplot(2,n,i+1+n)\n",
    "    plt.imshow(trainReconstruct3[idx].reshape(28,28),cmap='gray')\n",
    "    #plt.imshow(trainEncode[i].reshape(8,8),cmap='gray')\n",
    "    ax.get_xaxis().set_visible(False)\n",
    "    ax.get_yaxis().set_visible(False)\n",
    "\n",
    "plt.show()"
   ]
  },
  {
   "cell_type": "code",
   "execution_count": 90,
   "id": "6299789f",
   "metadata": {},
   "outputs": [
    {
     "data": {
      "text/plain": [
       "<matplotlib.image.AxesImage at 0x188e34650>"
      ]
     },
     "execution_count": 90,
     "metadata": {},
     "output_type": "execute_result"
    },
    {
     "data": {
      "image/png": "[encoded data removed]",
      "text/plain": [
       "<Figure size 640x480 with 1 Axes>"
      ]
     },
     "metadata": {},
     "output_type": "display_data"
    }
   ],
   "source": [
    "plt.imshow(Input_train_Dataset[0].reshape(28,28),cmap='gray')"
   ]
  },
  {
   "cell_type": "code",
   "execution_count": 91,
   "id": "b90062d8",
   "metadata": {},
   "outputs": [
    {
     "data": {
      "text/plain": [
       "<matplotlib.image.AxesImage at 0x188e93a90>"
      ]
     },
     "execution_count": 91,
     "metadata": {},
     "output_type": "execute_result"
    },
    {
     "data": {
      "image/png": "[encoded data removed]",
      "text/plain": [
       "<Figure size 640x480 with 1 Axes>"
      ]
     },
     "metadata": {},
     "output_type": "display_data"
    }
   ],
   "source": [
    "plt.imshow(trainReconstruct3[0].reshape(28,28),cmap='gray')"
   ]
  },
  {
   "cell_type": "code",
   "execution_count": 92,
   "id": "d02e502b",
   "metadata": {},
   "outputs": [
    {
     "name": "stdout",
     "output_type": "stream",
     "text": [
      "356/356 [==============================] - 0s 657us/step\n",
      "119/119 [==============================] - 0s 722us/step\n",
      "119/119 [==============================] - 0s 632us/step\n",
      "Epoch 1/10000\n",
      "356/356 [==============================] - 12s 33ms/step - loss: 0.7758 - accuracy: 0.6731 - val_loss: 0.2082 - val_accuracy: 0.9325\n",
      "Epoch 2/10000\n",
      "356/356 [==============================] - 28s 78ms/step - loss: 0.1696 - accuracy: 0.9436 - val_loss: 0.1279 - val_accuracy: 0.9563\n",
      "Epoch 3/10000\n",
      "356/356 [==============================] - 21s 58ms/step - loss: 0.1351 - accuracy: 0.9563 - val_loss: 0.1264 - val_accuracy: 0.9605\n",
      "Epoch 4/10000\n",
      "356/356 [==============================] - 15s 43ms/step - loss: 0.1205 - accuracy: 0.9606 - val_loss: 0.1232 - val_accuracy: 0.9602\n",
      "Epoch 5/10000\n",
      "356/356 [==============================] - 7s 19ms/step - loss: 0.1178 - accuracy: 0.9634 - val_loss: 0.1207 - val_accuracy: 0.9594\n",
      "Epoch 6/10000\n",
      "356/356 [==============================] - 6s 16ms/step - loss: 0.1122 - accuracy: 0.9628 - val_loss: 0.1529 - val_accuracy: 0.9505\n",
      "Epoch 7/10000\n",
      "356/356 [==============================] - 5s 15ms/step - loss: 0.1140 - accuracy: 0.9638 - val_loss: 0.1110 - val_accuracy: 0.9615\n",
      "Epoch 8/10000\n",
      "356/356 [==============================] - 5s 15ms/step - loss: 0.1079 - accuracy: 0.9645 - val_loss: 0.1034 - val_accuracy: 0.9660\n",
      "Epoch 9/10000\n",
      "356/356 [==============================] - 5s 15ms/step - loss: 0.1002 - accuracy: 0.9667 - val_loss: 0.0924 - val_accuracy: 0.9681\n",
      "Epoch 10/10000\n",
      "356/356 [==============================] - 5s 15ms/step - loss: 0.1001 - accuracy: 0.9675 - val_loss: 0.1019 - val_accuracy: 0.9636\n",
      "Epoch 11/10000\n",
      "356/356 [==============================] - 5s 15ms/step - loss: 0.0977 - accuracy: 0.9687 - val_loss: 0.1389 - val_accuracy: 0.9563\n",
      "Epoch 12/10000\n",
      "356/356 [==============================] - 5s 15ms/step - loss: 0.0999 - accuracy: 0.9680 - val_loss: 0.0925 - val_accuracy: 0.9694\n",
      "Epoch 13/10000\n",
      "356/356 [==============================] - 5s 15ms/step - loss: 0.0926 - accuracy: 0.9706 - val_loss: 0.1001 - val_accuracy: 0.9660\n",
      "Epoch 14/10000\n",
      "356/356 [==============================] - 7s 19ms/step - loss: 0.0899 - accuracy: 0.9704 - val_loss: 0.0997 - val_accuracy: 0.9657\n",
      "Epoch 15/10000\n",
      "356/356 [==============================] - 6s 17ms/step - loss: 0.0916 - accuracy: 0.9689 - val_loss: 0.0980 - val_accuracy: 0.9660\n",
      "Epoch 16/10000\n",
      "356/356 [==============================] - 6s 17ms/step - loss: 0.0892 - accuracy: 0.9714 - val_loss: 0.0945 - val_accuracy: 0.9655\n",
      "Epoch 17/10000\n",
      "356/356 [==============================] - 6s 17ms/step - loss: 0.0865 - accuracy: 0.9721 - val_loss: 0.1041 - val_accuracy: 0.9639\n",
      "Epoch 18/10000\n",
      "356/356 [==============================] - 6s 17ms/step - loss: 0.0881 - accuracy: 0.9722 - val_loss: 0.1264 - val_accuracy: 0.9613\n",
      "Epoch 19/10000\n",
      "356/356 [==============================] - 6s 18ms/step - loss: 0.0827 - accuracy: 0.9728 - val_loss: 0.0844 - val_accuracy: 0.9684\n",
      "Epoch 20/10000\n",
      "356/356 [==============================] - 6s 16ms/step - loss: 0.0840 - accuracy: 0.9736 - val_loss: 0.0916 - val_accuracy: 0.9692\n",
      "Epoch 21/10000\n",
      "356/356 [==============================] - 5s 15ms/step - loss: 0.0776 - accuracy: 0.9749 - val_loss: 0.0872 - val_accuracy: 0.9686\n",
      "Epoch 22/10000\n",
      "356/356 [==============================] - 6s 16ms/step - loss: 0.0782 - accuracy: 0.9738 - val_loss: 0.0773 - val_accuracy: 0.9723\n",
      "Epoch 23/10000\n",
      "356/356 [==============================] - 6s 16ms/step - loss: 0.0807 - accuracy: 0.9722 - val_loss: 0.0913 - val_accuracy: 0.9697\n",
      "Epoch 24/10000\n",
      "356/356 [==============================] - 5s 15ms/step - loss: 0.0826 - accuracy: 0.9721 - val_loss: 0.0772 - val_accuracy: 0.9723\n",
      "Epoch 24: early stopping\n"
     ]
    }
   ],
   "source": [
    "#Task3\n",
    "#trainEncode=a1Encoder.predict(Input_train_Dataset)\n",
    "'''Dataset used for prediction and evaluation in FCNN-Encoded data'''\n",
    "trainEncode3=Encoder3.predict(Input_train_Dataset)\n",
    "valEncode3=Encoder3.predict(Input_val_Dataset)\n",
    "testEncode3=Encoder3.predict(Input_test_Dataset)\n",
    "\n",
    "#Fcnn'''\n",
    "model3 = keras.Sequential([\n",
    "        #Flatten(input_shape=(28, 28), name='InputLayer'),\n",
    "        Dense(1024, activation=\"sigmoid\", name=\"Hlayer1\",kernel_initializer=initializer, bias_initializer=initializers.Zeros()),\n",
    "        Dense(512, activation=\"sigmoid\", name=\"Hlayer2\",kernel_initializer=initializer, bias_initializer=initializers.Zeros()),\n",
    "        Dense(256, activation=\"sigmoid\", name=\"Hlayer3\",kernel_initializer=initializer, bias_initializer=initializers.Zeros()),\n",
    "        Dense(5, activation=\"softmax\", name=\"output\"),\n",
    "        ])\n",
    "#model.summary()\n",
    "\n",
    "adam =Adam(learning_rate=0.001,beta_1=0.9,beta_2=0.999,epsilon=1e-8,name='Adam')\n",
    "\n",
    "\n",
    "model3.compile(optimizer=adam, loss='sparse_categorical_crossentropy', metrics=['accuracy'])\n",
    "\n",
    "es = EarlyStopping(monitor='loss',min_delta=0.0001, patience=3,verbose=1)\n",
    "\n",
    "model_fit3 = model3.fit(x = trainEncode3, y = Output_train, batch_size = 32, epochs = 10000, verbose = \"auto\", callbacks=[es], validation_data=(valEncode3,  Output_val), validation_batch_size=1)\n",
    "\n",
    "model3.save('/Users/vds/Downloads/modelAssign4/ae64.h5')\n",
    "f=open('/Users/vds/Downloads/modelAssign4/Histae64.pckl','wb')\n",
    "p.dump(model_fit3.history,f)\n",
    "f.close()"
   ]
  },
  {
   "cell_type": "code",
   "execution_count": 93,
   "id": "312ed743",
   "metadata": {},
   "outputs": [
    {
     "name": "stdout",
     "output_type": "stream",
     "text": [
      "\n",
      "Evaluation of model on train data:\n",
      "11385/11385 [==============================] - 9s 808us/step - loss: 0.0641 - accuracy: 0.9788\n",
      "['loss', 'accuracy']\n",
      "[0.0641360804438591, 0.9788317680358887]\n",
      "\n",
      "Evaluation of model on validation data:\n",
      "3795/3795 [==============================] - 3s 774us/step - loss: 0.0772 - accuracy: 0.9723\n",
      "['loss', 'accuracy']\n",
      "[0.0771920457482338, 0.9723320007324219]\n",
      "\n",
      "Evaluation of model on test data:\n",
      "3795/3795 [==============================] - 3s 768us/step - loss: 0.0853 - accuracy: 0.9726\n",
      "['loss', 'accuracy']\n",
      "[0.08534257113933563, 0.9725955128669739]\n",
      "\n",
      "Predictions for test data:\n",
      "3795/3795 [==============================] - 3s 670us/step\n",
      "[4 4 4 ... 1 1 1]\n"
     ]
    }
   ],
   "source": [
    "#FCNN Error\n",
    "print('\\nEvaluation of model on train data:')\n",
    "trainAcc3=model3.evaluate(x=trainEncode3,y=Output_train,batch_size=1, verbose=\"auto\",callbacks=None)\n",
    "print(model3.metrics_names)\n",
    "print(trainAcc3)\n",
    "\n",
    "print('\\nEvaluation of model on validation data:')\n",
    "valAcc3=model3.evaluate(x=valEncode3, y=Output_val, batch_size=1, verbose=\"auto\",callbacks=None)\n",
    "print(model3.metrics_names)\n",
    "print(valAcc3)\n",
    "\n",
    "print('\\nEvaluation of model on test data:')\n",
    "testAcc3=model3.evaluate(x=testEncode3, y=Output_test, batch_size=1, verbose=\"auto\",callbacks=None)\n",
    "print(model3.metrics_names)\n",
    "print(testAcc3)\n",
    "\n",
    "print('\\nPredictions for test data:')\n",
    "testProb3=model3.predict(testEncode3, batch_size=1, verbose=\"auto\", callbacks=None)\n",
    "pred3=np.argmax(testProb3,axis=1)\n",
    "print(pred3)"
   ]
  },
  {
   "cell_type": "code",
   "execution_count": 94,
   "id": "86e1e244",
   "metadata": {},
   "outputs": [
    {
     "name": "stdout",
     "output_type": "stream",
     "text": [
      "tf.Tensor(\n",
      "[[745   0  10   1   3]\n",
      " [  1 755   1   2   0]\n",
      " [  4   0 753   0   2]\n",
      " [  1   5   3 717  33]\n",
      " [  5   4   0  29 721]], shape=(5, 5), dtype=int32)\n"
     ]
    }
   ],
   "source": [
    "#3-3\n",
    "#confusionMatrix=confusion_matrix(Output_test, pred)\n",
    "confusionMatrix3=tf.math.confusion_matrix(Output_test,pred3)\n",
    "#confusionMatrix=tf.math.confusion_matrix(Output_test, pred5)\n",
    "print(confusionMatrix3)"
   ]
  },
  {
   "cell_type": "code",
   "execution_count": null,
   "id": "be3ca6fc",
   "metadata": {},
   "outputs": [],
   "source": []
  },
  {
   "cell_type": "code",
   "execution_count": null,
   "id": "c25fd504",
   "metadata": {},
   "outputs": [],
   "source": []
  },
  {
   "cell_type": "code",
   "execution_count": null,
   "id": "9e8f5acc",
   "metadata": {},
   "outputs": [],
   "source": []
  },
  {
   "cell_type": "code",
   "execution_count": 101,
   "id": "c1b3755b",
   "metadata": {},
   "outputs": [],
   "source": [
    "#print('Initializer: ',initializer)\n",
    "\n",
    "def Upload_Dataset(Dataset_Path):\n",
    "    \n",
    "    Path_train_Dataset = Dataset_Path+\"/train\"\n",
    "    Path_test_Dataset = Dataset_Path+\"/test\"\n",
    "    Path_val_Dataset = Dataset_Path+\"/val\"\n",
    "    \n",
    "    Input_train_Dataset, Input_test_Dataset, Input_val_Dataset = [], [], []\n",
    "    Output_train, Output_test, Output_val = [], [], []\n",
    "\n",
    "    for j in os.listdir(Path_train_Dataset):\n",
    "\n",
    "        if j != \".DS_Store\":\n",
    "            for k in os.listdir(Path_train_Dataset+\"/\"+j):\n",
    "                Input_train_Dataset.append(cv2.imread(Path_train_Dataset+\"/\"+j+\"/\"+k, cv2.IMREAD_GRAYSCALE))\n",
    "                if(j == '6'):\n",
    "                    Output_train.append(int(2))\n",
    "                elif(j == '7'):\n",
    "                    Output_train.append(int(3))\n",
    "                elif(j == '9'):\n",
    "                    Output_train.append(int(4))\n",
    "                else:\n",
    "                    Output_train.append(int(j))\n",
    "\n",
    "            for k in os.listdir(Path_test_Dataset+\"/\"+j):\n",
    "                Input_test_Dataset.append(cv2.imread(Path_test_Dataset+\"/\"+j+\"/\"+k, cv2.IMREAD_GRAYSCALE))\n",
    "                if(j=='6'):\n",
    "                    Output_test.append(int(2))\n",
    "                elif(j=='7'):\n",
    "                    Output_test.append(int(3))\n",
    "                elif(j=='9'):\n",
    "                    Output_test.append(int(4))\n",
    "                else:\n",
    "                    Output_test.append(int(j))\n",
    "\n",
    "            for k in os.listdir(Path_val_Dataset+\"/\"+j):\n",
    "                Input_val_Dataset.append(cv2.imread(Path_val_Dataset+\"/\"+j+\"/\"+k, cv2.IMREAD_GRAYSCALE))\n",
    "                if(j=='6'):\n",
    "                    Output_val.append(int(2))\n",
    "                elif(j=='7'):\n",
    "                    Output_val.append(int(3))\n",
    "                elif(j=='9'):\n",
    "                    Output_val.append(int(4))\n",
    "                else:\n",
    "                    Output_val.append(int(j))\n",
    "        \n",
    "    #print(Output_train)            \n",
    "    Input_train_Dataset, Input_test_Dataset, Input_val_Dataset = np.array(Input_train_Dataset), np.array(Input_test_Dataset), np.array(Input_val_Dataset)\n",
    "    #Output_train, Output_test, Output_val = np.array(list(map(int, Output_train))), np.array(list(map(int, Output_test))), np.array(list(map(int, Output_val)))\n",
    "    Output_train, Output_test, Output_val = np.array(Output_train), np.array(Output_test), np.array(Output_val)\n",
    "    #print(Output_train) \n",
    "    return Input_train_Dataset, Input_test_Dataset,Input_val_Dataset, Output_train, Output_test, Output_val\n",
    "\n",
    "\n",
    "\n",
    "#providing path of  MNIST dataset\n",
    "Dataset_Path = \"/Users/vds/Downloads/Group_1\"\n",
    "\n",
    "#calling Upload_Dataset function\n",
    "Input_train_Dataset, Input_test_Dataset,Input_val_Dataset, Output_train, Output_test, Output_val= Upload_Dataset(Dataset_Path)"
   ]
  },
  {
   "cell_type": "code",
   "execution_count": 102,
   "id": "ab5a8988",
   "metadata": {},
   "outputs": [],
   "source": [
    "Input_train_Dataset=Input_train_Dataset/255\n",
    "Input_test_Dataset=Input_test_Dataset/255\n",
    "Input_val_Dataset=Input_val_Dataset/255\n",
    "#bottleneck dimension\n",
    "encodingDim3=32"
   ]
  },
  {
   "cell_type": "code",
   "execution_count": 103,
   "id": "fd4e7937",
   "metadata": {},
   "outputs": [
    {
     "name": "stdout",
     "output_type": "stream",
     "text": [
      "Model: \"AutoencoderA1\"\n",
      "_________________________________________________________________\n",
      " Layer (type)                Output Shape              Param #   \n",
      "=================================================================\n",
      " img (InputLayer)            [(None, 28, 28)]          0         \n",
      "                                                                 \n",
      " InputLayer (Flatten)        (None, 784)               0         \n",
      "                                                                 \n",
      " dense_22 (Dense)            (None, 32)                25120     \n",
      "                                                                 \n",
      " dense_23 (Dense)            (None, 784)               25872     \n",
      "                                                                 \n",
      " reshape_11 (Reshape)        (None, 28, 28)            0         \n",
      "                                                                 \n",
      "=================================================================\n",
      "Total params: 50,992\n",
      "Trainable params: 50,992\n",
      "Non-trainable params: 0\n",
      "_________________________________________________________________\n",
      "Epoch 1/1000\n",
      "356/356 [==============================] - 2s 2ms/step - loss: 0.0780 - accuracy: 0.0951 - val_loss: 0.0639 - val_accuracy: 0.1015\n",
      "Epoch 2/1000\n",
      "356/356 [==============================] - 1s 2ms/step - loss: 0.0634 - accuracy: 0.0998 - val_loss: 0.0634 - val_accuracy: 0.0997\n",
      "Epoch 3/1000\n",
      "356/356 [==============================] - 1s 2ms/step - loss: 0.0631 - accuracy: 0.1002 - val_loss: 0.0633 - val_accuracy: 0.0987\n",
      "Epoch 4/1000\n",
      "356/356 [==============================] - 1s 2ms/step - loss: 0.0630 - accuracy: 0.1006 - val_loss: 0.0626 - val_accuracy: 0.0981\n",
      "Epoch 5/1000\n",
      "356/356 [==============================] - 1s 2ms/step - loss: 0.0607 - accuracy: 0.1049 - val_loss: 0.0591 - val_accuracy: 0.1096\n",
      "Epoch 6/1000\n",
      "356/356 [==============================] - 1s 2ms/step - loss: 0.0570 - accuracy: 0.1175 - val_loss: 0.0553 - val_accuracy: 0.1257\n",
      "Epoch 7/1000\n",
      "356/356 [==============================] - 1s 3ms/step - loss: 0.0535 - accuracy: 0.1344 - val_loss: 0.0523 - val_accuracy: 0.1433\n",
      "Epoch 8/1000\n",
      "356/356 [==============================] - 1s 2ms/step - loss: 0.0509 - accuracy: 0.1480 - val_loss: 0.0500 - val_accuracy: 0.1528\n",
      "Epoch 9/1000\n",
      "356/356 [==============================] - 1s 3ms/step - loss: 0.0490 - accuracy: 0.1553 - val_loss: 0.0484 - val_accuracy: 0.1591\n",
      "Epoch 10/1000\n",
      "356/356 [==============================] - 1s 2ms/step - loss: 0.0471 - accuracy: 0.1606 - val_loss: 0.0459 - val_accuracy: 0.1668\n",
      "Epoch 11/1000\n",
      "356/356 [==============================] - 1s 3ms/step - loss: 0.0441 - accuracy: 0.1786 - val_loss: 0.0428 - val_accuracy: 0.1896\n",
      "Epoch 12/1000\n",
      "356/356 [==============================] - 1s 2ms/step - loss: 0.0414 - accuracy: 0.1959 - val_loss: 0.0403 - val_accuracy: 0.2056\n",
      "Epoch 13/1000\n",
      "356/356 [==============================] - 1s 2ms/step - loss: 0.0392 - accuracy: 0.2082 - val_loss: 0.0383 - val_accuracy: 0.2151\n",
      "Epoch 14/1000\n",
      "356/356 [==============================] - 1s 2ms/step - loss: 0.0375 - accuracy: 0.2175 - val_loss: 0.0368 - val_accuracy: 0.2236\n",
      "Epoch 15/1000\n",
      "356/356 [==============================] - 1s 2ms/step - loss: 0.0362 - accuracy: 0.2229 - val_loss: 0.0356 - val_accuracy: 0.2308\n",
      "Epoch 16/1000\n",
      "356/356 [==============================] - 1s 2ms/step - loss: 0.0351 - accuracy: 0.2268 - val_loss: 0.0347 - val_accuracy: 0.2300\n",
      "Epoch 17/1000\n",
      "356/356 [==============================] - 1s 3ms/step - loss: 0.0342 - accuracy: 0.2300 - val_loss: 0.0339 - val_accuracy: 0.2337\n",
      "Epoch 18/1000\n",
      "356/356 [==============================] - 1s 2ms/step - loss: 0.0335 - accuracy: 0.2325 - val_loss: 0.0332 - val_accuracy: 0.2348\n",
      "Epoch 19/1000\n",
      "356/356 [==============================] - 1s 3ms/step - loss: 0.0328 - accuracy: 0.2343 - val_loss: 0.0326 - val_accuracy: 0.2360\n",
      "Epoch 20/1000\n",
      "356/356 [==============================] - 1s 3ms/step - loss: 0.0323 - accuracy: 0.2356 - val_loss: 0.0321 - val_accuracy: 0.2375\n",
      "Epoch 21/1000\n",
      "356/356 [==============================] - 1s 3ms/step - loss: 0.0318 - accuracy: 0.2371 - val_loss: 0.0316 - val_accuracy: 0.2370\n",
      "Epoch 22/1000\n",
      "356/356 [==============================] - 1s 3ms/step - loss: 0.0313 - accuracy: 0.2379 - val_loss: 0.0312 - val_accuracy: 0.2395\n",
      "Epoch 23/1000\n",
      "356/356 [==============================] - 1s 3ms/step - loss: 0.0310 - accuracy: 0.2392 - val_loss: 0.0308 - val_accuracy: 0.2409\n",
      "Epoch 24/1000\n",
      "356/356 [==============================] - 1s 2ms/step - loss: 0.0306 - accuracy: 0.2397 - val_loss: 0.0305 - val_accuracy: 0.2419\n",
      "Epoch 25/1000\n",
      "356/356 [==============================] - 1s 2ms/step - loss: 0.0303 - accuracy: 0.2412 - val_loss: 0.0302 - val_accuracy: 0.2387\n",
      "Epoch 26/1000\n",
      "356/356 [==============================] - 1s 2ms/step - loss: 0.0300 - accuracy: 0.2416 - val_loss: 0.0300 - val_accuracy: 0.2412\n",
      "Epoch 27/1000\n",
      "356/356 [==============================] - 1s 2ms/step - loss: 0.0298 - accuracy: 0.2422 - val_loss: 0.0297 - val_accuracy: 0.2413\n",
      "Epoch 28/1000\n",
      "356/356 [==============================] - 1s 1ms/step - loss: 0.0296 - accuracy: 0.2427 - val_loss: 0.0295 - val_accuracy: 0.2414\n",
      "Epoch 29/1000\n",
      "356/356 [==============================] - 1s 2ms/step - loss: 0.0294 - accuracy: 0.2435 - val_loss: 0.0294 - val_accuracy: 0.2431\n",
      "Epoch 30/1000\n",
      "356/356 [==============================] - 1s 2ms/step - loss: 0.0292 - accuracy: 0.2441 - val_loss: 0.0292 - val_accuracy: 0.2428\n",
      "Epoch 31/1000\n",
      "356/356 [==============================] - 1s 2ms/step - loss: 0.0290 - accuracy: 0.2444 - val_loss: 0.0290 - val_accuracy: 0.2440\n",
      "Epoch 32/1000\n",
      "356/356 [==============================] - 1s 2ms/step - loss: 0.0289 - accuracy: 0.2457 - val_loss: 0.0289 - val_accuracy: 0.2439\n",
      "Epoch 33/1000\n",
      "356/356 [==============================] - 1s 3ms/step - loss: 0.0287 - accuracy: 0.2457 - val_loss: 0.0287 - val_accuracy: 0.2450\n",
      "Epoch 34/1000\n",
      "356/356 [==============================] - 1s 3ms/step - loss: 0.0286 - accuracy: 0.2468 - val_loss: 0.0286 - val_accuracy: 0.2449\n",
      "Epoch 35/1000\n",
      "356/356 [==============================] - 1s 2ms/step - loss: 0.0285 - accuracy: 0.2469 - val_loss: 0.0285 - val_accuracy: 0.2442\n",
      "Epoch 36/1000\n",
      "356/356 [==============================] - 1s 1ms/step - loss: 0.0284 - accuracy: 0.2470 - val_loss: 0.0284 - val_accuracy: 0.2446\n",
      "Epoch 37/1000\n",
      "356/356 [==============================] - 1s 2ms/step - loss: 0.0282 - accuracy: 0.2475 - val_loss: 0.0283 - val_accuracy: 0.2460\n",
      "Epoch 38/1000\n",
      "356/356 [==============================] - 1s 1ms/step - loss: 0.0281 - accuracy: 0.2485 - val_loss: 0.0282 - val_accuracy: 0.2467\n",
      "Epoch 39/1000\n",
      "356/356 [==============================] - 1s 2ms/step - loss: 0.0280 - accuracy: 0.2489 - val_loss: 0.0281 - val_accuracy: 0.2449\n",
      "Epoch 40/1000\n",
      "356/356 [==============================] - 1s 2ms/step - loss: 0.0279 - accuracy: 0.2487 - val_loss: 0.0280 - val_accuracy: 0.2452\n",
      "Epoch 41/1000\n",
      "356/356 [==============================] - 1s 2ms/step - loss: 0.0279 - accuracy: 0.2493 - val_loss: 0.0279 - val_accuracy: 0.2459\n",
      "Epoch 42/1000\n",
      "356/356 [==============================] - 1s 2ms/step - loss: 0.0278 - accuracy: 0.2493 - val_loss: 0.0278 - val_accuracy: 0.2471\n",
      "Epoch 43/1000\n",
      "356/356 [==============================] - 1s 2ms/step - loss: 0.0277 - accuracy: 0.2495 - val_loss: 0.0277 - val_accuracy: 0.2477\n",
      "Epoch 44/1000\n",
      "356/356 [==============================] - 1s 2ms/step - loss: 0.0276 - accuracy: 0.2496 - val_loss: 0.0276 - val_accuracy: 0.2481\n",
      "Epoch 45/1000\n",
      "356/356 [==============================] - 1s 2ms/step - loss: 0.0275 - accuracy: 0.2503 - val_loss: 0.0276 - val_accuracy: 0.2472\n",
      "Epoch 46/1000\n",
      "356/356 [==============================] - 1s 2ms/step - loss: 0.0275 - accuracy: 0.2511 - val_loss: 0.0275 - val_accuracy: 0.2485\n",
      "Epoch 47/1000\n",
      "356/356 [==============================] - 1s 2ms/step - loss: 0.0274 - accuracy: 0.2508 - val_loss: 0.0275 - val_accuracy: 0.2480\n",
      "Epoch 48/1000\n",
      "356/356 [==============================] - 1s 1ms/step - loss: 0.0273 - accuracy: 0.2514 - val_loss: 0.0274 - val_accuracy: 0.2478\n",
      "Epoch 49/1000\n",
      "356/356 [==============================] - 1s 1ms/step - loss: 0.0273 - accuracy: 0.2519 - val_loss: 0.0273 - val_accuracy: 0.2493\n",
      "Epoch 50/1000\n"
     ]
    },
    {
     "name": "stdout",
     "output_type": "stream",
     "text": [
      "356/356 [==============================] - 1s 2ms/step - loss: 0.0272 - accuracy: 0.2515 - val_loss: 0.0273 - val_accuracy: 0.2484\n",
      "Epoch 51/1000\n",
      "356/356 [==============================] - 1s 1ms/step - loss: 0.0272 - accuracy: 0.2523 - val_loss: 0.0272 - val_accuracy: 0.2495\n",
      "Epoch 52/1000\n",
      "356/356 [==============================] - 1s 2ms/step - loss: 0.0271 - accuracy: 0.2523 - val_loss: 0.0272 - val_accuracy: 0.2493\n",
      "Epoch 53/1000\n",
      "356/356 [==============================] - 1s 2ms/step - loss: 0.0270 - accuracy: 0.2527 - val_loss: 0.0271 - val_accuracy: 0.2508\n",
      "Epoch 54/1000\n",
      "356/356 [==============================] - 1s 2ms/step - loss: 0.0270 - accuracy: 0.2530 - val_loss: 0.0271 - val_accuracy: 0.2505\n",
      "Epoch 55/1000\n",
      "356/356 [==============================] - 1s 2ms/step - loss: 0.0269 - accuracy: 0.2533 - val_loss: 0.0270 - val_accuracy: 0.2510\n",
      "Epoch 56/1000\n",
      "356/356 [==============================] - 1s 2ms/step - loss: 0.0269 - accuracy: 0.2533 - val_loss: 0.0270 - val_accuracy: 0.2487\n",
      "Epoch 57/1000\n",
      "356/356 [==============================] - 1s 2ms/step - loss: 0.0268 - accuracy: 0.2536 - val_loss: 0.0269 - val_accuracy: 0.2497\n",
      "Epoch 58/1000\n",
      "356/356 [==============================] - 1s 1ms/step - loss: 0.0268 - accuracy: 0.2533 - val_loss: 0.0269 - val_accuracy: 0.2519\n",
      "Epoch 59/1000\n",
      "356/356 [==============================] - 1s 1ms/step - loss: 0.0268 - accuracy: 0.2541 - val_loss: 0.0268 - val_accuracy: 0.2505\n",
      "Epoch 60/1000\n",
      "356/356 [==============================] - 1s 2ms/step - loss: 0.0267 - accuracy: 0.2537 - val_loss: 0.0268 - val_accuracy: 0.2515\n",
      "Epoch 61/1000\n",
      "356/356 [==============================] - 1s 2ms/step - loss: 0.0267 - accuracy: 0.2535 - val_loss: 0.0268 - val_accuracy: 0.2506\n",
      "Epoch 62/1000\n",
      "356/356 [==============================] - 1s 2ms/step - loss: 0.0266 - accuracy: 0.2543 - val_loss: 0.0267 - val_accuracy: 0.2516\n",
      "Epoch 63/1000\n",
      "356/356 [==============================] - 1s 1ms/step - loss: 0.0266 - accuracy: 0.2542 - val_loss: 0.0267 - val_accuracy: 0.2533\n",
      "Epoch 64/1000\n",
      "356/356 [==============================] - 1s 2ms/step - loss: 0.0266 - accuracy: 0.2547 - val_loss: 0.0267 - val_accuracy: 0.2519\n",
      "Epoch 65/1000\n",
      "356/356 [==============================] - 1s 2ms/step - loss: 0.0265 - accuracy: 0.2543 - val_loss: 0.0266 - val_accuracy: 0.2505\n",
      "Epoch 66/1000\n",
      "356/356 [==============================] - 1s 2ms/step - loss: 0.0265 - accuracy: 0.2545 - val_loss: 0.0266 - val_accuracy: 0.2506\n",
      "Epoch 67/1000\n",
      "356/356 [==============================] - 1s 1ms/step - loss: 0.0264 - accuracy: 0.2550 - val_loss: 0.0266 - val_accuracy: 0.2527\n",
      "Epoch 68/1000\n",
      "356/356 [==============================] - 1s 1ms/step - loss: 0.0264 - accuracy: 0.2544 - val_loss: 0.0265 - val_accuracy: 0.2532\n",
      "Epoch 69/1000\n",
      "356/356 [==============================] - 1s 2ms/step - loss: 0.0264 - accuracy: 0.2554 - val_loss: 0.0265 - val_accuracy: 0.2506\n",
      "Epoch 70/1000\n",
      "356/356 [==============================] - 1s 1ms/step - loss: 0.0263 - accuracy: 0.2547 - val_loss: 0.0265 - val_accuracy: 0.2514\n",
      "Epoch 71/1000\n",
      "356/356 [==============================] - 1s 2ms/step - loss: 0.0263 - accuracy: 0.2547 - val_loss: 0.0264 - val_accuracy: 0.2526\n",
      "Epoch 72/1000\n",
      "356/356 [==============================] - 1s 2ms/step - loss: 0.0263 - accuracy: 0.2554 - val_loss: 0.0264 - val_accuracy: 0.2527\n",
      "Epoch 73/1000\n",
      "356/356 [==============================] - 1s 1ms/step - loss: 0.0262 - accuracy: 0.2552 - val_loss: 0.0264 - val_accuracy: 0.2528\n",
      "Epoch 73: early stopping\n"
     ]
    }
   ],
   "source": [
    "#Autoencoder Arch-1\n",
    "xInp4=Input(shape=(28,28),name=\"img\")\n",
    "inp4=Flatten(input_shape=(28, 28), name='InputLayer')(xInp4)\n",
    "\n",
    "encodedOut4=Dense(encodingDim3,activation='sigmoid')(inp4)\n",
    "\n",
    "Encoder4=Model(xInp4,encodedOut4,name='encoder')\n",
    "\n",
    "\n",
    "decodedOut4=Dense(784,activation='sigmoid')(encodedOut4)\n",
    "out4=Reshape((28,28))(decodedOut4)\n",
    "optimizer4=Adam(learning_rate=0.001,beta_1=0.9,beta_2=0.999,epsilon=1e-6,name='Adam')\n",
    "\n",
    "Autoencoder4=Model(xInp4,out4,name='AutoencoderA1')\n",
    "Autoencoder4.summary()\n",
    "\n",
    "es = EarlyStopping(monitor='loss',min_delta=0.0001, patience=3,verbose=1)\n",
    "\n",
    "Autoencoder4.compile(optimizer4, loss='mse',metrics=['accuracy'])\n",
    "ae4history=Autoencoder4.fit(x = Input_train_Dataset, y = Input_train_Dataset, batch_size = 32, epochs = 1000, verbose = \"auto\", callbacks=[es], validation_data=(Input_val_Dataset,  Input_val_Dataset))\n",
    "#, validation_batch_size=1"
   ]
  },
  {
   "cell_type": "code",
   "execution_count": 104,
   "id": "0947a5d1",
   "metadata": {},
   "outputs": [
    {
     "name": "stdout",
     "output_type": "stream",
     "text": [
      "\n",
      "Average reconstruction Loss :\n",
      "11385/11385 [==============================] - 9s 771us/step - loss: 0.0262 - accuracy: 0.2572\n",
      "Train Data: 0.026234282180666924\n",
      "3795/3795 [==============================] - 3s 770us/step - loss: 0.0264 - accuracy: 0.2528\n",
      "Validation Data: 0.026392096653580666\n",
      "3795/3795 [==============================] - 3s 763us/step - loss: 0.0267 - accuracy: 0.2543\n",
      "Test Data: 0.026747511699795723\n"
     ]
    }
   ],
   "source": [
    "#Reconstruction Error-2c\n",
    "print('\\nAverage reconstruction Loss :')\n",
    "trainErr4=Autoencoder4.evaluate(x=Input_train_Dataset,y=Input_train_Dataset,batch_size=1, verbose=\"auto\",callbacks=None)\n",
    "print('Train Data:',trainErr4[0])\n",
    "\n",
    "#print('\\nEvaluation of model on validation data:')\n",
    "valErr4=Autoencoder4.evaluate(x=Input_val_Dataset, y=Input_val_Dataset, batch_size=1, verbose=\"auto\",callbacks=None)\n",
    "print('Validation Data:',valErr4[0])\n",
    "\n",
    "#print('\\nEvaluation of model on test data: Average Reconstruction Error')\n",
    "testErr4=Autoencoder4.evaluate(x=Input_test_Dataset, y=Input_test_Dataset, batch_size=1, verbose=\"auto\",callbacks=None)\n",
    "print('Test Data:',testErr4[0])"
   ]
  },
  {
   "cell_type": "code",
   "execution_count": 105,
   "id": "d8fa2175",
   "metadata": {},
   "outputs": [
    {
     "name": "stdout",
     "output_type": "stream",
     "text": [
      "356/356 [==============================] - 0s 753us/step\n"
     ]
    },
    {
     "data": {
      "text/plain": [
       "[<matplotlib.lines.Line2D at 0x17fd45250>]"
      ]
     },
     "execution_count": 105,
     "metadata": {},
     "output_type": "execute_result"
    },
    {
     "data": {
      "image/png": "[encoded data removed]",
      "text/plain": [
       "<Figure size 640x480 with 1 Axes>"
      ]
     },
     "metadata": {},
     "output_type": "display_data"
    }
   ],
   "source": [
    "'''visualization-Task2-d'''\n",
    "trainReconstruct4=Autoencoder4.predict(Input_train_Dataset)\n",
    "plt.plot(ae3history.history['loss'])"
   ]
  },
  {
   "cell_type": "code",
   "execution_count": 106,
   "id": "9693f96e",
   "metadata": {},
   "outputs": [
    {
     "data": {
      "image/png": "[encoded data removed]",
      "text/plain": [
       "<Figure size 2000x400 with 10 Axes>"
      ]
     },
     "metadata": {},
     "output_type": "display_data"
    }
   ],
   "source": [
    "n=5\n",
    "plt.figure(figsize=(20,4))\n",
    "for i in range(n):\n",
    "    #displaying original image\n",
    "    #clss=n\n",
    "    idx=np.where(Output_train==i)[0][0]\n",
    "    ax=plt.subplot(2,n,i+1)\n",
    "    plt.imshow(Input_train_Dataset[idx].reshape(28,28),cmap='gray')\n",
    "    ax.get_xaxis().set_visible(False)\n",
    "    ax.get_yaxis().set_visible(False)\n",
    "\n",
    "    #displaying reconstructed image\n",
    "    ax=plt.subplot(2,n,i+1+n)\n",
    "    plt.imshow(trainReconstruct4[idx].reshape(28,28),cmap='gray')\n",
    "    #plt.imshow(trainEncode[i].reshape(8,8),cmap='gray')\n",
    "    ax.get_xaxis().set_visible(False)\n",
    "    ax.get_yaxis().set_visible(False)\n",
    "\n",
    "plt.show()"
   ]
  },
  {
   "cell_type": "code",
   "execution_count": 107,
   "id": "8af9032d",
   "metadata": {},
   "outputs": [
    {
     "data": {
      "text/plain": [
       "<matplotlib.image.AxesImage at 0x181835a10>"
      ]
     },
     "execution_count": 107,
     "metadata": {},
     "output_type": "execute_result"
    },
    {
     "data": {
      "image/png": "[encoded data removed]",
      "text/plain": [
       "<Figure size 640x480 with 1 Axes>"
      ]
     },
     "metadata": {},
     "output_type": "display_data"
    }
   ],
   "source": [
    "plt.imshow(Input_train_Dataset[0].reshape(28,28),cmap='gray')"
   ]
  },
  {
   "cell_type": "code",
   "execution_count": 108,
   "id": "e7c32c2c",
   "metadata": {},
   "outputs": [
    {
     "data": {
      "text/plain": [
       "<matplotlib.image.AxesImage at 0x18182e990>"
      ]
     },
     "execution_count": 108,
     "metadata": {},
     "output_type": "execute_result"
    },
    {
     "data": {
      "image/png": "[encoded data removed]",
      "text/plain": [
       "<Figure size 640x480 with 1 Axes>"
      ]
     },
     "metadata": {},
     "output_type": "display_data"
    }
   ],
   "source": [
    "plt.imshow(trainReconstruct4[0].reshape(28,28),cmap='gray')"
   ]
  },
  {
   "cell_type": "code",
   "execution_count": 109,
   "id": "9c19f621",
   "metadata": {},
   "outputs": [
    {
     "name": "stdout",
     "output_type": "stream",
     "text": [
      "356/356 [==============================] - 0s 645us/step\n",
      "119/119 [==============================] - 0s 617us/step\n",
      "119/119 [==============================] - 0s 615us/step\n",
      "Epoch 1/10000\n",
      "356/356 [==============================] - 8s 19ms/step - loss: 1.1852 - accuracy: 0.4837 - val_loss: 0.4169 - val_accuracy: 0.8395\n",
      "Epoch 2/10000\n",
      "356/356 [==============================] - 6s 16ms/step - loss: 0.3244 - accuracy: 0.8826 - val_loss: 0.2489 - val_accuracy: 0.9170\n",
      "Epoch 3/10000\n",
      "356/356 [==============================] - 7s 21ms/step - loss: 0.2757 - accuracy: 0.9008 - val_loss: 0.2413 - val_accuracy: 0.9173\n",
      "Epoch 4/10000\n",
      "356/356 [==============================] - 5s 15ms/step - loss: 0.2641 - accuracy: 0.9017 - val_loss: 0.2355 - val_accuracy: 0.9194\n",
      "Epoch 5/10000\n",
      "356/356 [==============================] - 5s 14ms/step - loss: 0.2608 - accuracy: 0.9072 - val_loss: 0.2505 - val_accuracy: 0.9128\n",
      "Epoch 6/10000\n",
      "356/356 [==============================] - 5s 15ms/step - loss: 0.2455 - accuracy: 0.9118 - val_loss: 0.2981 - val_accuracy: 0.8951\n",
      "Epoch 7/10000\n",
      "356/356 [==============================] - 5s 15ms/step - loss: 0.2483 - accuracy: 0.9094 - val_loss: 0.2244 - val_accuracy: 0.9236\n",
      "Epoch 8/10000\n",
      "356/356 [==============================] - 5s 15ms/step - loss: 0.2387 - accuracy: 0.9129 - val_loss: 0.2222 - val_accuracy: 0.9246\n",
      "Epoch 9/10000\n",
      "356/356 [==============================] - 5s 15ms/step - loss: 0.2376 - accuracy: 0.9136 - val_loss: 0.2366 - val_accuracy: 0.9175\n",
      "Epoch 10/10000\n",
      "356/356 [==============================] - 6s 17ms/step - loss: 0.2346 - accuracy: 0.9150 - val_loss: 0.2629 - val_accuracy: 0.9075\n",
      "Epoch 11/10000\n",
      "356/356 [==============================] - 6s 17ms/step - loss: 0.2326 - accuracy: 0.9166 - val_loss: 0.2155 - val_accuracy: 0.9241\n",
      "Epoch 12/10000\n",
      "356/356 [==============================] - 6s 18ms/step - loss: 0.2174 - accuracy: 0.9198 - val_loss: 0.1990 - val_accuracy: 0.9302\n",
      "Epoch 13/10000\n",
      "356/356 [==============================] - 5s 14ms/step - loss: 0.2130 - accuracy: 0.9229 - val_loss: 0.1964 - val_accuracy: 0.9318\n",
      "Epoch 14/10000\n",
      "356/356 [==============================] - 5s 14ms/step - loss: 0.2095 - accuracy: 0.9245 - val_loss: 0.1937 - val_accuracy: 0.9289\n",
      "Epoch 15/10000\n",
      "356/356 [==============================] - 5s 15ms/step - loss: 0.2095 - accuracy: 0.9233 - val_loss: 0.1962 - val_accuracy: 0.9315\n",
      "Epoch 16/10000\n",
      "356/356 [==============================] - 5s 14ms/step - loss: 0.2062 - accuracy: 0.9253 - val_loss: 0.1932 - val_accuracy: 0.9323\n",
      "Epoch 17/10000\n",
      "356/356 [==============================] - 5s 14ms/step - loss: 0.2031 - accuracy: 0.9270 - val_loss: 0.2273 - val_accuracy: 0.9236\n",
      "Epoch 18/10000\n",
      "356/356 [==============================] - 8s 22ms/step - loss: 0.1969 - accuracy: 0.9307 - val_loss: 0.2119 - val_accuracy: 0.9257\n",
      "Epoch 19/10000\n",
      "356/356 [==============================] - 7s 20ms/step - loss: 0.2026 - accuracy: 0.9289 - val_loss: 0.1978 - val_accuracy: 0.9315\n",
      "Epoch 20/10000\n",
      "356/356 [==============================] - 8s 21ms/step - loss: 0.1949 - accuracy: 0.9303 - val_loss: 0.1872 - val_accuracy: 0.9333\n",
      "Epoch 21/10000\n",
      "356/356 [==============================] - 5s 15ms/step - loss: 0.1926 - accuracy: 0.9303 - val_loss: 0.2259 - val_accuracy: 0.9220\n",
      "Epoch 22/10000\n",
      "356/356 [==============================] - 7s 19ms/step - loss: 0.1888 - accuracy: 0.9330 - val_loss: 0.1956 - val_accuracy: 0.9304\n",
      "Epoch 23/10000\n",
      "356/356 [==============================] - 7s 19ms/step - loss: 0.1951 - accuracy: 0.9284 - val_loss: 0.1960 - val_accuracy: 0.9299\n",
      "Epoch 24/10000\n",
      "356/356 [==============================] - 6s 17ms/step - loss: 0.1866 - accuracy: 0.9316 - val_loss: 0.2026 - val_accuracy: 0.9273\n",
      "Epoch 25/10000\n",
      "356/356 [==============================] - 5s 15ms/step - loss: 0.1876 - accuracy: 0.9319 - val_loss: 0.1864 - val_accuracy: 0.9341\n",
      "Epoch 26/10000\n",
      "356/356 [==============================] - 6s 18ms/step - loss: 0.1917 - accuracy: 0.9292 - val_loss: 0.1837 - val_accuracy: 0.9341\n",
      "Epoch 27/10000\n",
      "356/356 [==============================] - 5s 15ms/step - loss: 0.1856 - accuracy: 0.9322 - val_loss: 0.2033 - val_accuracy: 0.9281\n",
      "Epoch 28/10000\n",
      "356/356 [==============================] - 5s 14ms/step - loss: 0.1789 - accuracy: 0.9356 - val_loss: 0.1832 - val_accuracy: 0.9357\n",
      "Epoch 29/10000\n",
      "356/356 [==============================] - 5s 15ms/step - loss: 0.1828 - accuracy: 0.9359 - val_loss: 0.1952 - val_accuracy: 0.9354\n",
      "Epoch 30/10000\n",
      "356/356 [==============================] - 5s 15ms/step - loss: 0.1810 - accuracy: 0.9345 - val_loss: 0.1845 - val_accuracy: 0.9323\n",
      "Epoch 31/10000\n",
      "356/356 [==============================] - 5s 14ms/step - loss: 0.1785 - accuracy: 0.9363 - val_loss: 0.1950 - val_accuracy: 0.9312\n",
      "Epoch 32/10000\n",
      "356/356 [==============================] - 5s 15ms/step - loss: 0.1755 - accuracy: 0.9375 - val_loss: 0.2263 - val_accuracy: 0.9262\n",
      "Epoch 33/10000\n",
      "356/356 [==============================] - 8s 22ms/step - loss: 0.1754 - accuracy: 0.9362 - val_loss: 0.1895 - val_accuracy: 0.9354\n",
      "Epoch 34/10000\n",
      "356/356 [==============================] - 6s 17ms/step - loss: 0.1700 - accuracy: 0.9404 - val_loss: 0.1796 - val_accuracy: 0.9404\n",
      "Epoch 35/10000\n",
      "356/356 [==============================] - 7s 19ms/step - loss: 0.1703 - accuracy: 0.9411 - val_loss: 0.1995 - val_accuracy: 0.9304\n",
      "Epoch 36/10000\n",
      "356/356 [==============================] - 7s 19ms/step - loss: 0.1731 - accuracy: 0.9375 - val_loss: 0.1799 - val_accuracy: 0.9370\n",
      "Epoch 37/10000\n",
      "356/356 [==============================] - 9s 26ms/step - loss: 0.1668 - accuracy: 0.9404 - val_loss: 0.1712 - val_accuracy: 0.9423\n",
      "Epoch 38/10000\n",
      "356/356 [==============================] - 7s 21ms/step - loss: 0.1654 - accuracy: 0.9420 - val_loss: 0.1619 - val_accuracy: 0.9455\n",
      "Epoch 39/10000\n",
      "356/356 [==============================] - 6s 18ms/step - loss: 0.1680 - accuracy: 0.9400 - val_loss: 0.1980 - val_accuracy: 0.9365\n",
      "Epoch 40/10000\n",
      "356/356 [==============================] - 6s 18ms/step - loss: 0.1680 - accuracy: 0.9396 - val_loss: 0.1749 - val_accuracy: 0.9407\n",
      "Epoch 41/10000\n",
      "356/356 [==============================] - 7s 19ms/step - loss: 0.1691 - accuracy: 0.9403 - val_loss: 0.1923 - val_accuracy: 0.9373\n",
      "Epoch 41: early stopping\n"
     ]
    }
   ],
   "source": [
    "'''Task3'''\n",
    "#trainEncode=a1Encoder.predict(Input_train_Dataset)\n",
    "'''Dataset used for prediction and evaluation in FCNN-Encoded data'''\n",
    "trainEncode4=Encoder4.predict(Input_train_Dataset)\n",
    "valEncode4=Encoder4.predict(Input_val_Dataset)\n",
    "testEncode4=Encoder4.predict(Input_test_Dataset)\n",
    "\n",
    "'''Fcnn'''\n",
    "model4 = keras.Sequential([\n",
    "        #Flatten(input_shape=(28, 28), name='InputLayer'),\n",
    "        Dense(1024, activation=\"sigmoid\", name=\"Hlayer1\",kernel_initializer=initializer, bias_initializer=initializers.Zeros()),\n",
    "        Dense(512, activation=\"sigmoid\", name=\"Hlayer2\",kernel_initializer=initializer, bias_initializer=initializers.Zeros()),\n",
    "        Dense(256, activation=\"sigmoid\", name=\"Hlayer3\",kernel_initializer=initializer, bias_initializer=initializers.Zeros()),\n",
    "        Dense(5, activation=\"softmax\", name=\"output\"),\n",
    "        ])\n",
    "#model.summary()\n",
    "\n",
    "adam =Adam(learning_rate=0.001,beta_1=0.9,beta_2=0.999,epsilon=1e-8,name='Adam')\n",
    "\n",
    "\n",
    "model4.compile(optimizer=adam, loss='sparse_categorical_crossentropy', metrics=['accuracy'])\n",
    "\n",
    "es = EarlyStopping(monitor='loss',min_delta=0.0001, patience=3,verbose=1)\n",
    "\n",
    "model_fit4 = model4.fit(x = trainEncode4, y = Output_train, batch_size = 32, epochs = 10000, verbose = \"auto\", callbacks=[es], validation_data=(valEncode4,  Output_val), validation_batch_size=1)\n",
    "\n",
    "model4.save('/Users/vds/Downloads/modelAssign4/ae32.h5')\n",
    "f=open('/Users/vds/Downloads/modelAssign4/Histae32.pckl','wb')\n",
    "p.dump(model_fit4.history,f)\n",
    "f.close()"
   ]
  },
  {
   "cell_type": "code",
   "execution_count": 110,
   "id": "a97eff87",
   "metadata": {},
   "outputs": [
    {
     "name": "stdout",
     "output_type": "stream",
     "text": [
      "\n",
      "Evaluation of model on train data:\n",
      "11385/11385 [==============================] - 11s 941us/step - loss: 0.1741 - accuracy: 0.9361\n",
      "['loss', 'accuracy']\n",
      "[0.17413778603076935, 0.9361440539360046]\n",
      "\n",
      "Evaluation of model on validation data:\n",
      "3795/3795 [==============================] - 3s 838us/step - loss: 0.1923 - accuracy: 0.9373\n",
      "['loss', 'accuracy']\n",
      "[0.19234110414981842, 0.9372859001159668]\n",
      "\n",
      "Evaluation of model on test data:\n",
      "3795/3795 [==============================] - 3s 787us/step - loss: 0.1977 - accuracy: 0.9339\n",
      "['loss', 'accuracy']\n",
      "[0.19766317307949066, 0.9338603615760803]\n",
      "\n",
      "Predictions for test data:\n",
      "3795/3795 [==============================] - 3s 729us/step\n",
      "[4 3 4 ... 1 1 1]\n"
     ]
    }
   ],
   "source": [
    "#FCNN Error\n",
    "print('\\nEvaluation of model on train data:')\n",
    "trainAcc4=model4.evaluate(x=trainEncode4,y=Output_train,batch_size=1, verbose=\"auto\",callbacks=None)\n",
    "print(model4.metrics_names)\n",
    "print(trainAcc4)\n",
    "\n",
    "print('\\nEvaluation of model on validation data:')\n",
    "valAcc4=model4.evaluate(x=valEncode4, y=Output_val, batch_size=1, verbose=\"auto\",callbacks=None)\n",
    "print(model4.metrics_names)\n",
    "print(valAcc4)\n",
    "\n",
    "print('\\nEvaluation of model on test data:')\n",
    "testAcc4=model4.evaluate(x=testEncode4, y=Output_test, batch_size=1, verbose=\"auto\",callbacks=None)\n",
    "print(model4.metrics_names)\n",
    "print(testAcc4)\n",
    "\n",
    "print('\\nPredictions for test data:')\n",
    "testProb4=model4.predict(testEncode4, batch_size=1, verbose=\"auto\", callbacks=None)\n",
    "pred4=np.argmax(testProb4,axis=1)\n",
    "print(pred4)"
   ]
  },
  {
   "cell_type": "code",
   "execution_count": 111,
   "id": "89c6135f",
   "metadata": {},
   "outputs": [
    {
     "name": "stdout",
     "output_type": "stream",
     "text": [
      "tf.Tensor(\n",
      "[[736   0  12   2   9]\n",
      " [  0 742   5   9   3]\n",
      " [ 12   4 740   2   1]\n",
      " [  1   5   5 717  31]\n",
      " [ 10   5   7 128 609]], shape=(5, 5), dtype=int32)\n"
     ]
    }
   ],
   "source": [
    "#3-3\n",
    "#confusionMatrix=confusion_matrix(Output_test, pred)\n",
    "confusionMatrix4=tf.math.confusion_matrix(Output_test,pred4)\n",
    "#confusionMatrix=tf.math.confusion_matrix(Output_test, pred5)\n",
    "print(confusionMatrix4)"
   ]
  }
 ],
 "metadata": {
  "kernelspec": {
   "display_name": "Python 3 (ipykernel)",
   "language": "python",
   "name": "python3"
  },
  "language_info": {
   "codemirror_mode": {
    "name": "ipython",
    "version": 3
   },
   "file_extension": ".py",
   "mimetype": "text/x-python",
   "name": "python",
   "nbconvert_exporter": "python",
   "pygments_lexer": "ipython3",
   "version": "3.11.2"
  }
 },
 "nbformat": 4,
 "nbformat_minor": 5
}
